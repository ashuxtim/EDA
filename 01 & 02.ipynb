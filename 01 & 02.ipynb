{
 "cells": [
  {
   "cell_type": "code",
   "execution_count": null,
   "id": "a78ee4d5-729c-4cc3-a701-84f220762295",
   "metadata": {},
   "outputs": [],
   "source": [
    "########################## Exploratory Data Analysis ############################\n",
    "\n",
    "01. Pandas          (Data frame analysis)\n",
    "02. Numpy           (Number Python, Math package)\n",
    "03. Matplotlib      (Plotting / Graphs / Visualization)\n",
    "04. Seaborn         (Plotting)\n",
    "05. Plotly          (Plotting)\n",
    "06. Bokhe           (Plotting)\n",
    "\n",
    "############################ Machine Learning ################################\n",
    "\n",
    "07. Scikit-learn    (ML models will be available)\n",
    "08. Stats           (Statistics models)\n",
    "\n",
    "############################## Deep Learning #################################\n",
    "\n",
    "09. Tensorflow      (Developed by google)\n",
    "10. Keras\n",
    "11. Torch\n",
    "12. Opencv          (Computer Vision)       #opencv:sentdex youtube\n",
    "\n",
    "################################## NLP #######################################\n",
    "\n",
    "13. NLTK            (Natural Launguage Tool Kit)\n",
    "14. Scipy\n",
    "\n",
    "############################### GenAI (LLM) ####################################\n",
    "                           [Prompt Engineering]\n",
    "\n",
    "15. ChatGPT         (is developed by openAI + Azure)\n",
    "16. Makersuite      (is developed by Google)\n",
    "17. Gemini          (is developed by Google)\n",
    "\n",
    "############################### Company Based ##################################\n",
    "\n",
    "18. Huggingface\n",
    "    Transformers    (BERT models)\n",
    "    DL  ML  NLP     (All tasks it will do)\n",
    "\n",
    "19. AllenNLP\n",
    "\n",
    "############################# Special Package ###############################\n",
    "\n",
    "20. Random\n",
    "21. Time\n",
    "22. Math\n",
    "23. API             (Flask)\n",
    "24. UI APPS         (Streamlit)"
   ]
  },
  {
   "cell_type": "code",
   "execution_count": null,
   "id": "d51e5b93-599c-4416-a375-7b4ff8ece5f9",
   "metadata": {},
   "outputs": [],
   "source": [
    "Data Analysis\n",
    "ML\n",
    "Deep Learning\n",
    "NLP\n",
    "BERT   :  Transformers  :  GPT\n",
    "LLM    :  GenAI"
   ]
  },
  {
   "cell_type": "code",
   "execution_count": null,
   "id": "3004ebce-d0bf-45b2-8d1b-b58f257c8e7e",
   "metadata": {},
   "outputs": [],
   "source": [
    "CV (Computer Vision)\n",
    "Deep Learning\n",
    "Read any image, video"
   ]
  },
  {
   "cell_type": "markdown",
   "id": "169a49c0-a4e7-4b9b-af76-f22dd26570c1",
   "metadata": {},
   "source": [
    "# Reading The Data"
   ]
  },
  {
   "cell_type": "code",
   "execution_count": 1,
   "id": "f77efd0a",
   "metadata": {},
   "outputs": [],
   "source": [
    "# updating the file\n",
    "# Im modifying the notebook"
   ]
  },
  {
   "cell_type": "code",
   "execution_count": 2,
   "id": "0aacc27c",
   "metadata": {},
   "outputs": [],
   "source": [
    "a=10\n",
    "b=20\n",
    "c=30"
   ]
  },
  {
   "cell_type": "code",
   "execution_count": 2,
   "id": "3978409e-4310-4979-a6ee-9ad9301419bc",
   "metadata": {},
   "outputs": [],
   "source": [
    "import pandas as pd\n",
    "import numpy as np\n",
    "import matplotlib.pyplot as plt\n",
    "import seaborn as sns"
   ]
  },
  {
   "cell_type": "code",
   "execution_count": 4,
   "id": "f9ea4831-636c-4ebc-ab3b-87f581797eb1",
   "metadata": {},
   "outputs": [],
   "source": [
    "# File Folder\n",
    "# File name\n",
    "# File path\n",
    "file_location=\"C:\\\\Users\\\\ashux\\\\OneDrive\\\\Python Notes\\\\EDA\\\\EDA_large_data.csv\""
   ]
  },
  {
   "cell_type": "code",
   "execution_count": null,
   "id": "45545046-1369-43cf-bc0b-205997c50168",
   "metadata": {},
   "outputs": [],
   "source": []
  },
  {
   "cell_type": "code",
   "execution_count": 6,
   "id": "165a365c-656c-42a0-9686-4523f02f0a54",
   "metadata": {},
   "outputs": [
    {
     "data": {
      "text/html": [
       "<div>\n",
       "<style scoped>\n",
       "    .dataframe tbody tr th:only-of-type {\n",
       "        vertical-align: middle;\n",
       "    }\n",
       "\n",
       "    .dataframe tbody tr th {\n",
       "        vertical-align: top;\n",
       "    }\n",
       "\n",
       "    .dataframe thead th {\n",
       "        text-align: right;\n",
       "    }\n",
       "</style>\n",
       "<table border=\"1\" class=\"dataframe\">\n",
       "  <thead>\n",
       "    <tr style=\"text-align: right;\">\n",
       "      <th></th>\n",
       "      <th>ID</th>\n",
       "      <th>Age</th>\n",
       "      <th>Gender</th>\n",
       "      <th>Income</th>\n",
       "      <th>Spend_Score</th>\n",
       "      <th>Region</th>\n",
       "      <th>Customer_Type</th>\n",
       "      <th>Purchase_Frequency</th>\n",
       "      <th>Savings</th>\n",
       "      <th>Credit_Score</th>\n",
       "      <th>Online_Shopping</th>\n",
       "      <th>Loyalty_Points</th>\n",
       "    </tr>\n",
       "  </thead>\n",
       "  <tbody>\n",
       "    <tr>\n",
       "      <th>0</th>\n",
       "      <td>1</td>\n",
       "      <td>56</td>\n",
       "      <td>Male</td>\n",
       "      <td>49770.79</td>\n",
       "      <td>27</td>\n",
       "      <td>East</td>\n",
       "      <td>New</td>\n",
       "      <td>2</td>\n",
       "      <td>20697.08</td>\n",
       "      <td>620</td>\n",
       "      <td>No</td>\n",
       "      <td>1400</td>\n",
       "    </tr>\n",
       "    <tr>\n",
       "      <th>1</th>\n",
       "      <td>2</td>\n",
       "      <td>49</td>\n",
       "      <td>Female</td>\n",
       "      <td>57777.86</td>\n",
       "      <td>35</td>\n",
       "      <td>South</td>\n",
       "      <td>VIP</td>\n",
       "      <td>2</td>\n",
       "      <td>24308.49</td>\n",
       "      <td>822</td>\n",
       "      <td>No</td>\n",
       "      <td>3624</td>\n",
       "    </tr>\n",
       "    <tr>\n",
       "      <th>2</th>\n",
       "      <td>3</td>\n",
       "      <td>50</td>\n",
       "      <td>Female</td>\n",
       "      <td>57966.19</td>\n",
       "      <td>82</td>\n",
       "      <td>South</td>\n",
       "      <td>VIP</td>\n",
       "      <td>2</td>\n",
       "      <td>29561.40</td>\n",
       "      <td>652</td>\n",
       "      <td>Yes</td>\n",
       "      <td>9523</td>\n",
       "    </tr>\n",
       "    <tr>\n",
       "      <th>3</th>\n",
       "      <td>4</td>\n",
       "      <td>33</td>\n",
       "      <td>Female</td>\n",
       "      <td>59555.88</td>\n",
       "      <td>30</td>\n",
       "      <td>North</td>\n",
       "      <td>VIP</td>\n",
       "      <td>2</td>\n",
       "      <td>22868.76</td>\n",
       "      <td>503</td>\n",
       "      <td>No</td>\n",
       "      <td>244</td>\n",
       "    </tr>\n",
       "    <tr>\n",
       "      <th>4</th>\n",
       "      <td>5</td>\n",
       "      <td>29</td>\n",
       "      <td>Male</td>\n",
       "      <td>60871.07</td>\n",
       "      <td>14</td>\n",
       "      <td>East</td>\n",
       "      <td>New</td>\n",
       "      <td>3</td>\n",
       "      <td>31972.05</td>\n",
       "      <td>454</td>\n",
       "      <td>Yes</td>\n",
       "      <td>375</td>\n",
       "    </tr>\n",
       "    <tr>\n",
       "      <th>...</th>\n",
       "      <td>...</td>\n",
       "      <td>...</td>\n",
       "      <td>...</td>\n",
       "      <td>...</td>\n",
       "      <td>...</td>\n",
       "      <td>...</td>\n",
       "      <td>...</td>\n",
       "      <td>...</td>\n",
       "      <td>...</td>\n",
       "      <td>...</td>\n",
       "      <td>...</td>\n",
       "      <td>...</td>\n",
       "    </tr>\n",
       "    <tr>\n",
       "      <th>24995</th>\n",
       "      <td>24996</td>\n",
       "      <td>42</td>\n",
       "      <td>Male</td>\n",
       "      <td>47428.10</td>\n",
       "      <td>95</td>\n",
       "      <td>East</td>\n",
       "      <td>Returning</td>\n",
       "      <td>4</td>\n",
       "      <td>19250.61</td>\n",
       "      <td>429</td>\n",
       "      <td>No</td>\n",
       "      <td>3504</td>\n",
       "    </tr>\n",
       "    <tr>\n",
       "      <th>24996</th>\n",
       "      <td>24997</td>\n",
       "      <td>45</td>\n",
       "      <td>Male</td>\n",
       "      <td>73364.48</td>\n",
       "      <td>46</td>\n",
       "      <td>East</td>\n",
       "      <td>Returning</td>\n",
       "      <td>2</td>\n",
       "      <td>26113.03</td>\n",
       "      <td>555</td>\n",
       "      <td>No</td>\n",
       "      <td>148</td>\n",
       "    </tr>\n",
       "    <tr>\n",
       "      <th>24997</th>\n",
       "      <td>24998</td>\n",
       "      <td>60</td>\n",
       "      <td>Male</td>\n",
       "      <td>48966.95</td>\n",
       "      <td>41</td>\n",
       "      <td>South</td>\n",
       "      <td>VIP</td>\n",
       "      <td>1</td>\n",
       "      <td>5739.21</td>\n",
       "      <td>497</td>\n",
       "      <td>Yes</td>\n",
       "      <td>5832</td>\n",
       "    </tr>\n",
       "    <tr>\n",
       "      <th>24998</th>\n",
       "      <td>24999</td>\n",
       "      <td>30</td>\n",
       "      <td>Female</td>\n",
       "      <td>49105.76</td>\n",
       "      <td>85</td>\n",
       "      <td>South</td>\n",
       "      <td>Returning</td>\n",
       "      <td>4</td>\n",
       "      <td>9281.24</td>\n",
       "      <td>729</td>\n",
       "      <td>No</td>\n",
       "      <td>4737</td>\n",
       "    </tr>\n",
       "    <tr>\n",
       "      <th>24999</th>\n",
       "      <td>25000</td>\n",
       "      <td>64</td>\n",
       "      <td>Female</td>\n",
       "      <td>30118.22</td>\n",
       "      <td>52</td>\n",
       "      <td>North</td>\n",
       "      <td>Returning</td>\n",
       "      <td>1</td>\n",
       "      <td>22089.87</td>\n",
       "      <td>476</td>\n",
       "      <td>Yes</td>\n",
       "      <td>4456</td>\n",
       "    </tr>\n",
       "  </tbody>\n",
       "</table>\n",
       "<p>25000 rows × 12 columns</p>\n",
       "</div>"
      ],
      "text/plain": [
       "          ID  Age  Gender    Income  Spend_Score Region Customer_Type  \\\n",
       "0          1   56    Male  49770.79           27   East           New   \n",
       "1          2   49  Female  57777.86           35  South           VIP   \n",
       "2          3   50  Female  57966.19           82  South           VIP   \n",
       "3          4   33  Female  59555.88           30  North           VIP   \n",
       "4          5   29    Male  60871.07           14   East           New   \n",
       "...      ...  ...     ...       ...          ...    ...           ...   \n",
       "24995  24996   42    Male  47428.10           95   East     Returning   \n",
       "24996  24997   45    Male  73364.48           46   East     Returning   \n",
       "24997  24998   60    Male  48966.95           41  South           VIP   \n",
       "24998  24999   30  Female  49105.76           85  South     Returning   \n",
       "24999  25000   64  Female  30118.22           52  North     Returning   \n",
       "\n",
       "       Purchase_Frequency   Savings  Credit_Score Online_Shopping  \\\n",
       "0                       2  20697.08           620              No   \n",
       "1                       2  24308.49           822              No   \n",
       "2                       2  29561.40           652             Yes   \n",
       "3                       2  22868.76           503              No   \n",
       "4                       3  31972.05           454             Yes   \n",
       "...                   ...       ...           ...             ...   \n",
       "24995                   4  19250.61           429              No   \n",
       "24996                   2  26113.03           555              No   \n",
       "24997                   1   5739.21           497             Yes   \n",
       "24998                   4   9281.24           729              No   \n",
       "24999                   1  22089.87           476             Yes   \n",
       "\n",
       "       Loyalty_Points  \n",
       "0                1400  \n",
       "1                3624  \n",
       "2                9523  \n",
       "3                 244  \n",
       "4                 375  \n",
       "...               ...  \n",
       "24995            3504  \n",
       "24996             148  \n",
       "24997            5832  \n",
       "24998            4737  \n",
       "24999            4456  \n",
       "\n",
       "[25000 rows x 12 columns]"
      ]
     },
     "execution_count": 6,
     "metadata": {},
     "output_type": "execute_result"
    }
   ],
   "source": [
    "pd.read_csv(file_location)"
   ]
  },
  {
   "cell_type": "markdown",
   "id": "bafe50c9-9627-48db-84b7-f31e6f9cb3c8",
   "metadata": {},
   "source": [
    "- How to create a Data frame\n",
    "\n",
    "- How to add columns \n",
    "\n",
    "- How to deop rows\n",
    "\n",
    "- How to drop columns\n",
    "\n",
    "- How to drop rows\n",
    "\n",
    "- How to save the Dataframe"
   ]
  },
  {
   "cell_type": "markdown",
   "id": "84aad6ce-b46e-4363-8fd4-9faed0b424f5",
   "metadata": {},
   "source": [
    "$Method-1$\n",
    "\n",
    "**Create Dataframe using List**"
   ]
  },
  {
   "cell_type": "code",
   "execution_count": 11,
   "id": "e61b84af-2c6f-4fd8-8480-261a26614032",
   "metadata": {},
   "outputs": [
    {
     "data": {
      "text/html": [
       "<div>\n",
       "<style scoped>\n",
       "    .dataframe tbody tr th:only-of-type {\n",
       "        vertical-align: middle;\n",
       "    }\n",
       "\n",
       "    .dataframe tbody tr th {\n",
       "        vertical-align: top;\n",
       "    }\n",
       "\n",
       "    .dataframe thead th {\n",
       "        text-align: right;\n",
       "    }\n",
       "</style>\n",
       "<table border=\"1\" class=\"dataframe\">\n",
       "  <thead>\n",
       "    <tr style=\"text-align: right;\">\n",
       "      <th></th>\n",
       "      <th>0</th>\n",
       "      <th>1</th>\n",
       "    </tr>\n",
       "  </thead>\n",
       "  <tbody>\n",
       "    <tr>\n",
       "      <th>0</th>\n",
       "      <td>Ramesh</td>\n",
       "      <td>20</td>\n",
       "    </tr>\n",
       "    <tr>\n",
       "      <th>1</th>\n",
       "      <td>Suresh</td>\n",
       "      <td>25</td>\n",
       "    </tr>\n",
       "    <tr>\n",
       "      <th>2</th>\n",
       "      <td>Sathish</td>\n",
       "      <td>30</td>\n",
       "    </tr>\n",
       "  </tbody>\n",
       "</table>\n",
       "</div>"
      ],
      "text/plain": [
       "         0   1\n",
       "0   Ramesh  20\n",
       "1   Suresh  25\n",
       "2  Sathish  30"
      ]
     },
     "execution_count": 11,
     "metadata": {},
     "output_type": "execute_result"
    }
   ],
   "source": [
    "# Step-1 : Create a Dataframe\n",
    "Names=['Ramesh','Suresh','Sathish']\n",
    "Age=[20,25,30]\n",
    "pd.DataFrame(zip(Names,Age))"
   ]
  },
  {
   "cell_type": "code",
   "execution_count": 17,
   "id": "23752062-3aa7-4ed3-919e-002d951e7bbc",
   "metadata": {},
   "outputs": [
    {
     "data": {
      "text/html": [
       "<div>\n",
       "<style scoped>\n",
       "    .dataframe tbody tr th:only-of-type {\n",
       "        vertical-align: middle;\n",
       "    }\n",
       "\n",
       "    .dataframe tbody tr th {\n",
       "        vertical-align: top;\n",
       "    }\n",
       "\n",
       "    .dataframe thead th {\n",
       "        text-align: right;\n",
       "    }\n",
       "</style>\n",
       "<table border=\"1\" class=\"dataframe\">\n",
       "  <thead>\n",
       "    <tr style=\"text-align: right;\">\n",
       "      <th></th>\n",
       "      <th>Names</th>\n",
       "      <th>Age</th>\n",
       "    </tr>\n",
       "  </thead>\n",
       "  <tbody>\n",
       "    <tr>\n",
       "      <th>0</th>\n",
       "      <td>Ramesh</td>\n",
       "      <td>20</td>\n",
       "    </tr>\n",
       "    <tr>\n",
       "      <th>1</th>\n",
       "      <td>Suresh</td>\n",
       "      <td>25</td>\n",
       "    </tr>\n",
       "    <tr>\n",
       "      <th>2</th>\n",
       "      <td>Sathish</td>\n",
       "      <td>30</td>\n",
       "    </tr>\n",
       "  </tbody>\n",
       "</table>\n",
       "</div>"
      ],
      "text/plain": [
       "     Names  Age\n",
       "0   Ramesh   20\n",
       "1   Suresh   25\n",
       "2  Sathish   30"
      ]
     },
     "execution_count": 17,
     "metadata": {},
     "output_type": "execute_result"
    }
   ],
   "source": [
    "#Step-2 : Update the column name\n",
    "Names=['Ramesh','Suresh','Sathish']\n",
    "Age=[20,25,30]\n",
    "pd.DataFrame(zip(Names,Age),columns=['Names','Age'])"
   ]
  },
  {
   "cell_type": "code",
   "execution_count": 23,
   "id": "cd410993-1793-4fb3-aa14-ca0c3533d2ad",
   "metadata": {},
   "outputs": [
    {
     "data": {
      "text/html": [
       "<div>\n",
       "<style scoped>\n",
       "    .dataframe tbody tr th:only-of-type {\n",
       "        vertical-align: middle;\n",
       "    }\n",
       "\n",
       "    .dataframe tbody tr th {\n",
       "        vertical-align: top;\n",
       "    }\n",
       "\n",
       "    .dataframe thead th {\n",
       "        text-align: right;\n",
       "    }\n",
       "</style>\n",
       "<table border=\"1\" class=\"dataframe\">\n",
       "  <thead>\n",
       "    <tr style=\"text-align: right;\">\n",
       "      <th></th>\n",
       "      <th>Names</th>\n",
       "      <th>Age</th>\n",
       "    </tr>\n",
       "  </thead>\n",
       "  <tbody>\n",
       "    <tr>\n",
       "      <th>A</th>\n",
       "      <td>Ramesh</td>\n",
       "      <td>20</td>\n",
       "    </tr>\n",
       "    <tr>\n",
       "      <th>B</th>\n",
       "      <td>Suresh</td>\n",
       "      <td>25</td>\n",
       "    </tr>\n",
       "    <tr>\n",
       "      <th>C</th>\n",
       "      <td>Sathish</td>\n",
       "      <td>30</td>\n",
       "    </tr>\n",
       "  </tbody>\n",
       "</table>\n",
       "</div>"
      ],
      "text/plain": [
       "     Names  Age\n",
       "A   Ramesh   20\n",
       "B   Suresh   25\n",
       "C  Sathish   30"
      ]
     },
     "execution_count": 23,
     "metadata": {},
     "output_type": "execute_result"
    }
   ],
   "source": [
    "#Step-3 : Update the index\n",
    "Names=['Ramesh','Suresh','Sathish']\n",
    "Age=[20,25,30]\n",
    "df1=pd.DataFrame(zip(Names,Age),columns=['Names','Age'],index=['A','B','C'])\n",
    "df1"
   ]
  },
  {
   "cell_type": "code",
   "execution_count": 27,
   "id": "a49e7202-2a3e-493f-8480-be6e1be9da3a",
   "metadata": {},
   "outputs": [
    {
     "data": {
      "text/html": [
       "<div>\n",
       "<style scoped>\n",
       "    .dataframe tbody tr th:only-of-type {\n",
       "        vertical-align: middle;\n",
       "    }\n",
       "\n",
       "    .dataframe tbody tr th {\n",
       "        vertical-align: top;\n",
       "    }\n",
       "\n",
       "    .dataframe thead th {\n",
       "        text-align: right;\n",
       "    }\n",
       "</style>\n",
       "<table border=\"1\" class=\"dataframe\">\n",
       "  <thead>\n",
       "    <tr style=\"text-align: right;\">\n",
       "      <th></th>\n",
       "      <th>Names</th>\n",
       "      <th>Age</th>\n",
       "    </tr>\n",
       "  </thead>\n",
       "  <tbody>\n",
       "    <tr>\n",
       "      <th>A</th>\n",
       "      <td>Sathish</td>\n",
       "      <td>20</td>\n",
       "    </tr>\n",
       "    <tr>\n",
       "      <th>B</th>\n",
       "      <td>Ramesh</td>\n",
       "      <td>25</td>\n",
       "    </tr>\n",
       "    <tr>\n",
       "      <th>C</th>\n",
       "      <td>Suresh</td>\n",
       "      <td>30</td>\n",
       "    </tr>\n",
       "  </tbody>\n",
       "</table>\n",
       "</div>"
      ],
      "text/plain": [
       "     Names  Age\n",
       "A  Sathish   20\n",
       "B   Ramesh   25\n",
       "C   Suresh   30"
      ]
     },
     "execution_count": 27,
     "metadata": {},
     "output_type": "execute_result"
    }
   ],
   "source": [
    "#Step-4 : Changing the entire column data\n",
    "df1['Names']=['Sathish','Ramesh','Suresh']\n",
    "df1"
   ]
  },
  {
   "cell_type": "code",
   "execution_count": 31,
   "id": "bb005f75-ced1-484b-9ba3-07b103514d8d",
   "metadata": {},
   "outputs": [
    {
     "data": {
      "text/html": [
       "<div>\n",
       "<style scoped>\n",
       "    .dataframe tbody tr th:only-of-type {\n",
       "        vertical-align: middle;\n",
       "    }\n",
       "\n",
       "    .dataframe tbody tr th {\n",
       "        vertical-align: top;\n",
       "    }\n",
       "\n",
       "    .dataframe thead th {\n",
       "        text-align: right;\n",
       "    }\n",
       "</style>\n",
       "<table border=\"1\" class=\"dataframe\">\n",
       "  <thead>\n",
       "    <tr style=\"text-align: right;\">\n",
       "      <th></th>\n",
       "      <th>Names</th>\n",
       "      <th>Age</th>\n",
       "      <th>City</th>\n",
       "    </tr>\n",
       "  </thead>\n",
       "  <tbody>\n",
       "    <tr>\n",
       "      <th>A</th>\n",
       "      <td>Sathish</td>\n",
       "      <td>20</td>\n",
       "      <td>Hyd</td>\n",
       "    </tr>\n",
       "    <tr>\n",
       "      <th>B</th>\n",
       "      <td>Ramesh</td>\n",
       "      <td>25</td>\n",
       "      <td>Chennai</td>\n",
       "    </tr>\n",
       "    <tr>\n",
       "      <th>C</th>\n",
       "      <td>Suresh</td>\n",
       "      <td>30</td>\n",
       "      <td>Mumbai</td>\n",
       "    </tr>\n",
       "  </tbody>\n",
       "</table>\n",
       "</div>"
      ],
      "text/plain": [
       "     Names  Age     City\n",
       "A  Sathish   20      Hyd\n",
       "B   Ramesh   25  Chennai\n",
       "C   Suresh   30   Mumbai"
      ]
     },
     "execution_count": 31,
     "metadata": {},
     "output_type": "execute_result"
    }
   ],
   "source": [
    "#Step-6 : Adding new columns\n",
    "df1['City']=['Hyd','Chennai','Mumbai']\n",
    "df1"
   ]
  },
  {
   "cell_type": "code",
   "execution_count": 41,
   "id": "873b83da-e772-4579-9a7d-7c8df3c8720b",
   "metadata": {},
   "outputs": [
    {
     "data": {
      "text/plain": [
       "Index(['A', 'B', 'C'], dtype='object')"
      ]
     },
     "execution_count": 41,
     "metadata": {},
     "output_type": "execute_result"
    }
   ],
   "source": [
    "#Adding a row\n",
    "df1.index"
   ]
  },
  {
   "cell_type": "code",
   "execution_count": 114,
   "id": "0c98d119-db10-4751-a429-9327e21a0ac6",
   "metadata": {},
   "outputs": [
    {
     "data": {
      "text/html": [
       "<div>\n",
       "<style scoped>\n",
       "    .dataframe tbody tr th:only-of-type {\n",
       "        vertical-align: middle;\n",
       "    }\n",
       "\n",
       "    .dataframe tbody tr th {\n",
       "        vertical-align: top;\n",
       "    }\n",
       "\n",
       "    .dataframe thead th {\n",
       "        text-align: right;\n",
       "    }\n",
       "</style>\n",
       "<table border=\"1\" class=\"dataframe\">\n",
       "  <thead>\n",
       "    <tr style=\"text-align: right;\">\n",
       "      <th></th>\n",
       "      <th>Names</th>\n",
       "      <th>Age</th>\n",
       "    </tr>\n",
       "  </thead>\n",
       "  <tbody>\n",
       "    <tr>\n",
       "      <th>0</th>\n",
       "      <td>Ramesh</td>\n",
       "      <td>20</td>\n",
       "    </tr>\n",
       "    <tr>\n",
       "      <th>1</th>\n",
       "      <td>Suresh</td>\n",
       "      <td>25</td>\n",
       "    </tr>\n",
       "    <tr>\n",
       "      <th>2</th>\n",
       "      <td>Sathish</td>\n",
       "      <td>30</td>\n",
       "    </tr>\n",
       "  </tbody>\n",
       "</table>\n",
       "</div>"
      ],
      "text/plain": [
       "     Names  Age\n",
       "0   Ramesh   20\n",
       "1   Suresh   25\n",
       "2  Sathish   30"
      ]
     },
     "execution_count": 114,
     "metadata": {},
     "output_type": "execute_result"
    }
   ],
   "source": [
    "#Changing the index A B C to 1 2 3\n",
    "df1=pd.DataFrame(zip(Names,Age),columns=['Names','Age'],index=[0,1,2])\n",
    "df1"
   ]
  },
  {
   "cell_type": "code",
   "execution_count": 116,
   "id": "559814a6-2845-449c-8ba4-0fee9158d899",
   "metadata": {},
   "outputs": [
    {
     "data": {
      "text/plain": [
       "3"
      ]
     },
     "execution_count": 116,
     "metadata": {},
     "output_type": "execute_result"
    }
   ],
   "source": [
    "len(df1.index)"
   ]
  },
  {
   "cell_type": "code",
   "execution_count": 118,
   "id": "c01f4af3-81bc-4251-8647-6d4e0e6329c3",
   "metadata": {},
   "outputs": [
    {
     "data": {
      "text/html": [
       "<div>\n",
       "<style scoped>\n",
       "    .dataframe tbody tr th:only-of-type {\n",
       "        vertical-align: middle;\n",
       "    }\n",
       "\n",
       "    .dataframe tbody tr th {\n",
       "        vertical-align: top;\n",
       "    }\n",
       "\n",
       "    .dataframe thead th {\n",
       "        text-align: right;\n",
       "    }\n",
       "</style>\n",
       "<table border=\"1\" class=\"dataframe\">\n",
       "  <thead>\n",
       "    <tr style=\"text-align: right;\">\n",
       "      <th></th>\n",
       "      <th>Names</th>\n",
       "      <th>Age</th>\n",
       "    </tr>\n",
       "  </thead>\n",
       "  <tbody>\n",
       "    <tr>\n",
       "      <th>0</th>\n",
       "      <td>Ramesh</td>\n",
       "      <td>20</td>\n",
       "    </tr>\n",
       "    <tr>\n",
       "      <th>1</th>\n",
       "      <td>Suresh</td>\n",
       "      <td>25</td>\n",
       "    </tr>\n",
       "    <tr>\n",
       "      <th>2</th>\n",
       "      <td>Sathish</td>\n",
       "      <td>30</td>\n",
       "    </tr>\n",
       "    <tr>\n",
       "      <th>3</th>\n",
       "      <td>Alex</td>\n",
       "      <td>35</td>\n",
       "    </tr>\n",
       "  </tbody>\n",
       "</table>\n",
       "</div>"
      ],
      "text/plain": [
       "     Names Age\n",
       "0   Ramesh  20\n",
       "1   Suresh  25\n",
       "2  Sathish  30\n",
       "3     Alex  35"
      ]
     },
     "execution_count": 118,
     "metadata": {},
     "output_type": "execute_result"
    }
   ],
   "source": [
    "#Step-6 : Adding new rows (rows)\n",
    "df1.loc[3]=[\"Alex\",\"35\"]\n",
    "df1"
   ]
  },
  {
   "cell_type": "code",
   "execution_count": 120,
   "id": "83cff7b0-5c33-461a-b74e-be8f54bd1ea3",
   "metadata": {},
   "outputs": [
    {
     "data": {
      "text/html": [
       "<div>\n",
       "<style scoped>\n",
       "    .dataframe tbody tr th:only-of-type {\n",
       "        vertical-align: middle;\n",
       "    }\n",
       "\n",
       "    .dataframe tbody tr th {\n",
       "        vertical-align: top;\n",
       "    }\n",
       "\n",
       "    .dataframe thead th {\n",
       "        text-align: right;\n",
       "    }\n",
       "</style>\n",
       "<table border=\"1\" class=\"dataframe\">\n",
       "  <thead>\n",
       "    <tr style=\"text-align: right;\">\n",
       "      <th></th>\n",
       "      <th>Names</th>\n",
       "      <th>Age</th>\n",
       "    </tr>\n",
       "  </thead>\n",
       "  <tbody>\n",
       "    <tr>\n",
       "      <th>0</th>\n",
       "      <td>Ramesh</td>\n",
       "      <td>20</td>\n",
       "    </tr>\n",
       "    <tr>\n",
       "      <th>1</th>\n",
       "      <td>Suresh</td>\n",
       "      <td>25</td>\n",
       "    </tr>\n",
       "    <tr>\n",
       "      <th>2</th>\n",
       "      <td>Sathish</td>\n",
       "      <td>30</td>\n",
       "    </tr>\n",
       "    <tr>\n",
       "      <th>3</th>\n",
       "      <td>Alex</td>\n",
       "      <td>35</td>\n",
       "    </tr>\n",
       "    <tr>\n",
       "      <th>A</th>\n",
       "      <td>Bunny</td>\n",
       "      <td>40</td>\n",
       "    </tr>\n",
       "  </tbody>\n",
       "</table>\n",
       "</div>"
      ],
      "text/plain": [
       "     Names Age\n",
       "0   Ramesh  20\n",
       "1   Suresh  25\n",
       "2  Sathish  30\n",
       "3     Alex  35\n",
       "A    Bunny  40"
      ]
     },
     "execution_count": 120,
     "metadata": {},
     "output_type": "execute_result"
    }
   ],
   "source": [
    "df1.loc['A']=[\"Bunny\",40]\n",
    "df1"
   ]
  },
  {
   "cell_type": "code",
   "execution_count": 122,
   "id": "31a584d4-f5e1-4b5d-a339-c1ce939577b1",
   "metadata": {},
   "outputs": [
    {
     "data": {
      "text/html": [
       "<div>\n",
       "<style scoped>\n",
       "    .dataframe tbody tr th:only-of-type {\n",
       "        vertical-align: middle;\n",
       "    }\n",
       "\n",
       "    .dataframe tbody tr th {\n",
       "        vertical-align: top;\n",
       "    }\n",
       "\n",
       "    .dataframe thead th {\n",
       "        text-align: right;\n",
       "    }\n",
       "</style>\n",
       "<table border=\"1\" class=\"dataframe\">\n",
       "  <thead>\n",
       "    <tr style=\"text-align: right;\">\n",
       "      <th></th>\n",
       "      <th>Names</th>\n",
       "      <th>Age</th>\n",
       "      <th>City</th>\n",
       "    </tr>\n",
       "  </thead>\n",
       "  <tbody>\n",
       "    <tr>\n",
       "      <th>0</th>\n",
       "      <td>Ramesh</td>\n",
       "      <td>20</td>\n",
       "      <td>Hyd</td>\n",
       "    </tr>\n",
       "    <tr>\n",
       "      <th>1</th>\n",
       "      <td>Suresh</td>\n",
       "      <td>25</td>\n",
       "      <td>Chennai</td>\n",
       "    </tr>\n",
       "    <tr>\n",
       "      <th>2</th>\n",
       "      <td>Sathish</td>\n",
       "      <td>30</td>\n",
       "      <td>Mumbai</td>\n",
       "    </tr>\n",
       "  </tbody>\n",
       "</table>\n",
       "</div>"
      ],
      "text/plain": [
       "     Names  Age     City\n",
       "0   Ramesh   20      Hyd\n",
       "1   Suresh   25  Chennai\n",
       "2  Sathish   30   Mumbai"
      ]
     },
     "execution_count": 122,
     "metadata": {},
     "output_type": "execute_result"
    }
   ],
   "source": [
    "#Step-7 : Drop the columns\n",
    "# Before drop the column\n",
    "# I will create a new column\n",
    "# I have only two columns Name and AGe\n",
    "# I will create a city, Then i drop the column\n",
    "\n",
    "Name=[\"Ramesh\",\"Suresh\",\"Sathish\"]\n",
    "df1=pd.DataFrame(zip(Name,Age),columns=['Names','Age'],index=[0,1,2])\n",
    "df1[\"City\"]=[\"Hyd\",\"Chennai\",\"Mumbai\"]\n",
    "df1"
   ]
  },
  {
   "cell_type": "code",
   "execution_count": 124,
   "id": "f82fb765-1ae1-4617-b620-e5abc6df4eb8",
   "metadata": {},
   "outputs": [
    {
     "data": {
      "text/html": [
       "<div>\n",
       "<style scoped>\n",
       "    .dataframe tbody tr th:only-of-type {\n",
       "        vertical-align: middle;\n",
       "    }\n",
       "\n",
       "    .dataframe tbody tr th {\n",
       "        vertical-align: top;\n",
       "    }\n",
       "\n",
       "    .dataframe thead th {\n",
       "        text-align: right;\n",
       "    }\n",
       "</style>\n",
       "<table border=\"1\" class=\"dataframe\">\n",
       "  <thead>\n",
       "    <tr style=\"text-align: right;\">\n",
       "      <th></th>\n",
       "      <th>Names</th>\n",
       "      <th>Age</th>\n",
       "    </tr>\n",
       "  </thead>\n",
       "  <tbody>\n",
       "    <tr>\n",
       "      <th>0</th>\n",
       "      <td>Ramesh</td>\n",
       "      <td>20</td>\n",
       "    </tr>\n",
       "    <tr>\n",
       "      <th>1</th>\n",
       "      <td>Suresh</td>\n",
       "      <td>25</td>\n",
       "    </tr>\n",
       "    <tr>\n",
       "      <th>2</th>\n",
       "      <td>Sathish</td>\n",
       "      <td>30</td>\n",
       "    </tr>\n",
       "  </tbody>\n",
       "</table>\n",
       "</div>"
      ],
      "text/plain": [
       "     Names  Age\n",
       "0   Ramesh   20\n",
       "1   Suresh   25\n",
       "2  Sathish   30"
      ]
     },
     "execution_count": 124,
     "metadata": {},
     "output_type": "execute_result"
    }
   ],
   "source": [
    "# Axis=1  \"It reference columns\"\n",
    "# Axis=0  \"It reference rows\"\n",
    "# The result you want to overwrite or save in another variable\n",
    "df1.drop('City',axis=1,inplace=True)\n",
    "df1"
   ]
  },
  {
   "cell_type": "code",
   "execution_count": 126,
   "id": "eee3d331-5bd3-4190-8f93-18feef278e94",
   "metadata": {},
   "outputs": [
    {
     "data": {
      "text/html": [
       "<div>\n",
       "<style scoped>\n",
       "    .dataframe tbody tr th:only-of-type {\n",
       "        vertical-align: middle;\n",
       "    }\n",
       "\n",
       "    .dataframe tbody tr th {\n",
       "        vertical-align: top;\n",
       "    }\n",
       "\n",
       "    .dataframe thead th {\n",
       "        text-align: right;\n",
       "    }\n",
       "</style>\n",
       "<table border=\"1\" class=\"dataframe\">\n",
       "  <thead>\n",
       "    <tr style=\"text-align: right;\">\n",
       "      <th></th>\n",
       "      <th>Names</th>\n",
       "      <th>Age</th>\n",
       "    </tr>\n",
       "  </thead>\n",
       "  <tbody>\n",
       "    <tr>\n",
       "      <th>0</th>\n",
       "      <td>Ramesh</td>\n",
       "      <td>20</td>\n",
       "    </tr>\n",
       "    <tr>\n",
       "      <th>1</th>\n",
       "      <td>Suresh</td>\n",
       "      <td>25</td>\n",
       "    </tr>\n",
       "  </tbody>\n",
       "</table>\n",
       "</div>"
      ],
      "text/plain": [
       "    Names  Age\n",
       "0  Ramesh   20\n",
       "1  Suresh   25"
      ]
     },
     "execution_count": 126,
     "metadata": {},
     "output_type": "execute_result"
    }
   ],
   "source": [
    "# Step-8 : Dropping a row\n",
    "df1.drop(2,inplace=True)\n",
    "df1"
   ]
  },
  {
   "cell_type": "code",
   "execution_count": 140,
   "id": "ce4dd519-6678-4d81-b4f3-f0ad52317636",
   "metadata": {},
   "outputs": [],
   "source": [
    "# Step-9 : Save the df1 in your local\n",
    "df1.to_csv(\"df1.csv\",index=False)"
   ]
  },
  {
   "cell_type": "code",
   "execution_count": 142,
   "id": "b26db050-9b05-44f1-b855-33440c9f7e00",
   "metadata": {},
   "outputs": [
    {
     "data": {
      "text/html": [
       "<div>\n",
       "<style scoped>\n",
       "    .dataframe tbody tr th:only-of-type {\n",
       "        vertical-align: middle;\n",
       "    }\n",
       "\n",
       "    .dataframe tbody tr th {\n",
       "        vertical-align: top;\n",
       "    }\n",
       "\n",
       "    .dataframe thead th {\n",
       "        text-align: right;\n",
       "    }\n",
       "</style>\n",
       "<table border=\"1\" class=\"dataframe\">\n",
       "  <thead>\n",
       "    <tr style=\"text-align: right;\">\n",
       "      <th></th>\n",
       "      <th>Names</th>\n",
       "      <th>Age</th>\n",
       "    </tr>\n",
       "  </thead>\n",
       "  <tbody>\n",
       "    <tr>\n",
       "      <th>0</th>\n",
       "      <td>Ramesh</td>\n",
       "      <td>20</td>\n",
       "    </tr>\n",
       "    <tr>\n",
       "      <th>1</th>\n",
       "      <td>Suresh</td>\n",
       "      <td>25</td>\n",
       "    </tr>\n",
       "  </tbody>\n",
       "</table>\n",
       "</div>"
      ],
      "text/plain": [
       "    Names  Age\n",
       "0  Ramesh   20\n",
       "1  Suresh   25"
      ]
     },
     "execution_count": 142,
     "metadata": {},
     "output_type": "execute_result"
    }
   ],
   "source": [
    "pd.read_csv('df1.csv')"
   ]
  },
  {
   "cell_type": "code",
   "execution_count": 136,
   "id": "91b7aca4-3053-498d-a788-a1b89773355f",
   "metadata": {},
   "outputs": [],
   "source": [
    "df1.to_csv(\"C:\\\\Users\\\\ashux\\\\OneDrive\\\\Documents\\\\df2.csv\",index=False)"
   ]
  },
  {
   "cell_type": "code",
   "execution_count": 138,
   "id": "08171745-9707-4813-b501-f83edc525ce2",
   "metadata": {},
   "outputs": [
    {
     "data": {
      "text/html": [
       "<div>\n",
       "<style scoped>\n",
       "    .dataframe tbody tr th:only-of-type {\n",
       "        vertical-align: middle;\n",
       "    }\n",
       "\n",
       "    .dataframe tbody tr th {\n",
       "        vertical-align: top;\n",
       "    }\n",
       "\n",
       "    .dataframe thead th {\n",
       "        text-align: right;\n",
       "    }\n",
       "</style>\n",
       "<table border=\"1\" class=\"dataframe\">\n",
       "  <thead>\n",
       "    <tr style=\"text-align: right;\">\n",
       "      <th></th>\n",
       "      <th>Names</th>\n",
       "      <th>Age</th>\n",
       "    </tr>\n",
       "  </thead>\n",
       "  <tbody>\n",
       "    <tr>\n",
       "      <th>0</th>\n",
       "      <td>Ramesh</td>\n",
       "      <td>20</td>\n",
       "    </tr>\n",
       "    <tr>\n",
       "      <th>1</th>\n",
       "      <td>Suresh</td>\n",
       "      <td>25</td>\n",
       "    </tr>\n",
       "  </tbody>\n",
       "</table>\n",
       "</div>"
      ],
      "text/plain": [
       "    Names  Age\n",
       "0  Ramesh   20\n",
       "1  Suresh   25"
      ]
     },
     "execution_count": 138,
     "metadata": {},
     "output_type": "execute_result"
    }
   ],
   "source": [
    "pd.read_csv(\"C:\\\\Users\\\\ashux\\\\OneDrive\\\\Documents\\\\df2.csv\")"
   ]
  },
  {
   "cell_type": "markdown",
   "id": "12b2b4fb-082a-4aec-9a90-5ff293a3f9a7",
   "metadata": {},
   "source": [
    "$Method-2$\n",
    "\n",
    "**Create a Dataframe using dictionary**"
   ]
  },
  {
   "cell_type": "code",
   "execution_count": 146,
   "id": "fcb62795-362b-4e47-b33c-cef8e813d898",
   "metadata": {},
   "outputs": [
    {
     "data": {
      "text/plain": [
       "{'Name': ['Ramesh', 'Suresh', 'Sathish'], 'Age': [20, 25, 30]}"
      ]
     },
     "execution_count": 146,
     "metadata": {},
     "output_type": "execute_result"
    }
   ],
   "source": [
    "d1={'Name':['Ramesh','Suresh','Sathish'],'Age':[20,25,30]}\n",
    "d1\n",
    "\n",
    "# Keys   : Consider a column name\n",
    "# Values : Consider a row"
   ]
  },
  {
   "cell_type": "code",
   "execution_count": 150,
   "id": "b22fa428-e950-4610-a35c-bb9876f96c9c",
   "metadata": {},
   "outputs": [
    {
     "data": {
      "text/html": [
       "<div>\n",
       "<style scoped>\n",
       "    .dataframe tbody tr th:only-of-type {\n",
       "        vertical-align: middle;\n",
       "    }\n",
       "\n",
       "    .dataframe tbody tr th {\n",
       "        vertical-align: top;\n",
       "    }\n",
       "\n",
       "    .dataframe thead th {\n",
       "        text-align: right;\n",
       "    }\n",
       "</style>\n",
       "<table border=\"1\" class=\"dataframe\">\n",
       "  <thead>\n",
       "    <tr style=\"text-align: right;\">\n",
       "      <th></th>\n",
       "      <th>Name</th>\n",
       "      <th>Age</th>\n",
       "    </tr>\n",
       "  </thead>\n",
       "  <tbody>\n",
       "    <tr>\n",
       "      <th>0</th>\n",
       "      <td>Ramesh</td>\n",
       "      <td>20</td>\n",
       "    </tr>\n",
       "    <tr>\n",
       "      <th>1</th>\n",
       "      <td>Suresh</td>\n",
       "      <td>25</td>\n",
       "    </tr>\n",
       "    <tr>\n",
       "      <th>2</th>\n",
       "      <td>Sathish</td>\n",
       "      <td>30</td>\n",
       "    </tr>\n",
       "  </tbody>\n",
       "</table>\n",
       "</div>"
      ],
      "text/plain": [
       "      Name  Age\n",
       "0   Ramesh   20\n",
       "1   Suresh   25\n",
       "2  Sathish   30"
      ]
     },
     "execution_count": 150,
     "metadata": {},
     "output_type": "execute_result"
    }
   ],
   "source": [
    "pd.DataFrame(d1)"
   ]
  },
  {
   "cell_type": "markdown",
   "id": "67b76a26-2850-4987-bba1-ab05d3ec21de",
   "metadata": {},
   "source": [
    "$Method-3$"
   ]
  },
  {
   "cell_type": "code",
   "execution_count": 155,
   "id": "d75fe925-b130-498b-9cef-d9dd8730c52f",
   "metadata": {},
   "outputs": [
    {
     "data": {
      "text/html": [
       "<div>\n",
       "<style scoped>\n",
       "    .dataframe tbody tr th:only-of-type {\n",
       "        vertical-align: middle;\n",
       "    }\n",
       "\n",
       "    .dataframe tbody tr th {\n",
       "        vertical-align: top;\n",
       "    }\n",
       "\n",
       "    .dataframe thead th {\n",
       "        text-align: right;\n",
       "    }\n",
       "</style>\n",
       "<table border=\"1\" class=\"dataframe\">\n",
       "  <thead>\n",
       "    <tr style=\"text-align: right;\">\n",
       "      <th></th>\n",
       "    </tr>\n",
       "  </thead>\n",
       "  <tbody>\n",
       "  </tbody>\n",
       "</table>\n",
       "</div>"
      ],
      "text/plain": [
       "Empty DataFrame\n",
       "Columns: []\n",
       "Index: []"
      ]
     },
     "execution_count": 155,
     "metadata": {},
     "output_type": "execute_result"
    }
   ],
   "source": [
    "df1=pd.DataFrame()\n",
    "df1"
   ]
  },
  {
   "cell_type": "code",
   "execution_count": 159,
   "id": "ea397bad-fc47-4128-bb8c-1866f7fee0a2",
   "metadata": {},
   "outputs": [
    {
     "data": {
      "text/plain": [
       "[50, 22, 46, 20]"
      ]
     },
     "execution_count": 159,
     "metadata": {},
     "output_type": "execute_result"
    }
   ],
   "source": [
    "import random\n",
    "even_list=[]\n",
    "for i in range(5):\n",
    "    num=random.randint(20,50)\n",
    "    if num%2==0:\n",
    "        even_list.append(num)\n",
    "even_list"
   ]
  },
  {
   "cell_type": "code",
   "execution_count": 163,
   "id": "975da449-421e-40e7-802c-9f120c700d9a",
   "metadata": {},
   "outputs": [
    {
     "data": {
      "text/html": [
       "<div>\n",
       "<style scoped>\n",
       "    .dataframe tbody tr th:only-of-type {\n",
       "        vertical-align: middle;\n",
       "    }\n",
       "\n",
       "    .dataframe tbody tr th {\n",
       "        vertical-align: top;\n",
       "    }\n",
       "\n",
       "    .dataframe thead th {\n",
       "        text-align: right;\n",
       "    }\n",
       "</style>\n",
       "<table border=\"1\" class=\"dataframe\">\n",
       "  <thead>\n",
       "    <tr style=\"text-align: right;\">\n",
       "      <th></th>\n",
       "      <th>Even</th>\n",
       "    </tr>\n",
       "  </thead>\n",
       "  <tbody>\n",
       "    <tr>\n",
       "      <th>0</th>\n",
       "      <td>50</td>\n",
       "    </tr>\n",
       "    <tr>\n",
       "      <th>1</th>\n",
       "      <td>22</td>\n",
       "    </tr>\n",
       "    <tr>\n",
       "      <th>2</th>\n",
       "      <td>46</td>\n",
       "    </tr>\n",
       "    <tr>\n",
       "      <th>3</th>\n",
       "      <td>20</td>\n",
       "    </tr>\n",
       "  </tbody>\n",
       "</table>\n",
       "</div>"
      ],
      "text/plain": [
       "   Even\n",
       "0    50\n",
       "1    22\n",
       "2    46\n",
       "3    20"
      ]
     },
     "execution_count": 163,
     "metadata": {},
     "output_type": "execute_result"
    }
   ],
   "source": [
    "df1['Even']=even_list\n",
    "df1"
   ]
  },
  {
   "cell_type": "code",
   "execution_count": 167,
   "id": "da1d03a6-b828-4945-bc61-4ed96d118cd5",
   "metadata": {},
   "outputs": [
    {
     "data": {
      "text/html": [
       "<div>\n",
       "<style scoped>\n",
       "    .dataframe tbody tr th:only-of-type {\n",
       "        vertical-align: middle;\n",
       "    }\n",
       "\n",
       "    .dataframe tbody tr th {\n",
       "        vertical-align: top;\n",
       "    }\n",
       "\n",
       "    .dataframe thead th {\n",
       "        text-align: right;\n",
       "    }\n",
       "</style>\n",
       "<table border=\"1\" class=\"dataframe\">\n",
       "  <thead>\n",
       "    <tr style=\"text-align: right;\">\n",
       "      <th></th>\n",
       "      <th>Even</th>\n",
       "      <th>Odd</th>\n",
       "    </tr>\n",
       "  </thead>\n",
       "  <tbody>\n",
       "    <tr>\n",
       "      <th>0</th>\n",
       "      <td>50</td>\n",
       "      <td>3</td>\n",
       "    </tr>\n",
       "    <tr>\n",
       "      <th>1</th>\n",
       "      <td>22</td>\n",
       "      <td>7</td>\n",
       "    </tr>\n",
       "    <tr>\n",
       "      <th>2</th>\n",
       "      <td>46</td>\n",
       "      <td>17</td>\n",
       "    </tr>\n",
       "    <tr>\n",
       "      <th>3</th>\n",
       "      <td>20</td>\n",
       "      <td>19</td>\n",
       "    </tr>\n",
       "  </tbody>\n",
       "</table>\n",
       "</div>"
      ],
      "text/plain": [
       "   Even  Odd\n",
       "0    50    3\n",
       "1    22    7\n",
       "2    46   17\n",
       "3    20   19"
      ]
     },
     "execution_count": 167,
     "metadata": {},
     "output_type": "execute_result"
    }
   ],
   "source": [
    "df1['Odd']=[3,7,17,19]\n",
    "df1"
   ]
  },
  {
   "cell_type": "markdown",
   "id": "22777282-b252-4d61-bb08-dea84e0a3638",
   "metadata": {},
   "source": [
    "$head$"
   ]
  },
  {
   "cell_type": "code",
   "execution_count": 8,
   "id": "a2812c9c-52ea-455c-8ede-fe8128488d55",
   "metadata": {},
   "outputs": [],
   "source": [
    "import pandas as pd\n",
    "import numpy as np\n",
    "import matplotlib.pyplot as plt\n",
    "import seaborn as sns\n",
    "\n",
    "file_loc='EDA_large_data.csv'\n",
    "bank_df=pd.read_csv(file_loc)"
   ]
  },
  {
   "cell_type": "code",
   "execution_count": 12,
   "id": "8d6f0697-9406-4d9e-aa30-542db84dc100",
   "metadata": {},
   "outputs": [
    {
     "data": {
      "text/html": [
       "<div>\n",
       "<style scoped>\n",
       "    .dataframe tbody tr th:only-of-type {\n",
       "        vertical-align: middle;\n",
       "    }\n",
       "\n",
       "    .dataframe tbody tr th {\n",
       "        vertical-align: top;\n",
       "    }\n",
       "\n",
       "    .dataframe thead th {\n",
       "        text-align: right;\n",
       "    }\n",
       "</style>\n",
       "<table border=\"1\" class=\"dataframe\">\n",
       "  <thead>\n",
       "    <tr style=\"text-align: right;\">\n",
       "      <th></th>\n",
       "      <th>ID</th>\n",
       "      <th>Age</th>\n",
       "      <th>Gender</th>\n",
       "      <th>Income</th>\n",
       "      <th>Spend_Score</th>\n",
       "      <th>Region</th>\n",
       "      <th>Customer_Type</th>\n",
       "      <th>Purchase_Frequency</th>\n",
       "      <th>Savings</th>\n",
       "      <th>Credit_Score</th>\n",
       "      <th>Online_Shopping</th>\n",
       "      <th>Loyalty_Points</th>\n",
       "    </tr>\n",
       "  </thead>\n",
       "  <tbody>\n",
       "    <tr>\n",
       "      <th>0</th>\n",
       "      <td>1</td>\n",
       "      <td>56</td>\n",
       "      <td>Male</td>\n",
       "      <td>49770.79</td>\n",
       "      <td>27</td>\n",
       "      <td>East</td>\n",
       "      <td>New</td>\n",
       "      <td>2</td>\n",
       "      <td>20697.08</td>\n",
       "      <td>620</td>\n",
       "      <td>No</td>\n",
       "      <td>1400</td>\n",
       "    </tr>\n",
       "    <tr>\n",
       "      <th>1</th>\n",
       "      <td>2</td>\n",
       "      <td>49</td>\n",
       "      <td>Female</td>\n",
       "      <td>57777.86</td>\n",
       "      <td>35</td>\n",
       "      <td>South</td>\n",
       "      <td>VIP</td>\n",
       "      <td>2</td>\n",
       "      <td>24308.49</td>\n",
       "      <td>822</td>\n",
       "      <td>No</td>\n",
       "      <td>3624</td>\n",
       "    </tr>\n",
       "    <tr>\n",
       "      <th>2</th>\n",
       "      <td>3</td>\n",
       "      <td>50</td>\n",
       "      <td>Female</td>\n",
       "      <td>57966.19</td>\n",
       "      <td>82</td>\n",
       "      <td>South</td>\n",
       "      <td>VIP</td>\n",
       "      <td>2</td>\n",
       "      <td>29561.40</td>\n",
       "      <td>652</td>\n",
       "      <td>Yes</td>\n",
       "      <td>9523</td>\n",
       "    </tr>\n",
       "    <tr>\n",
       "      <th>3</th>\n",
       "      <td>4</td>\n",
       "      <td>33</td>\n",
       "      <td>Female</td>\n",
       "      <td>59555.88</td>\n",
       "      <td>30</td>\n",
       "      <td>North</td>\n",
       "      <td>VIP</td>\n",
       "      <td>2</td>\n",
       "      <td>22868.76</td>\n",
       "      <td>503</td>\n",
       "      <td>No</td>\n",
       "      <td>244</td>\n",
       "    </tr>\n",
       "    <tr>\n",
       "      <th>4</th>\n",
       "      <td>5</td>\n",
       "      <td>29</td>\n",
       "      <td>Male</td>\n",
       "      <td>60871.07</td>\n",
       "      <td>14</td>\n",
       "      <td>East</td>\n",
       "      <td>New</td>\n",
       "      <td>3</td>\n",
       "      <td>31972.05</td>\n",
       "      <td>454</td>\n",
       "      <td>Yes</td>\n",
       "      <td>375</td>\n",
       "    </tr>\n",
       "  </tbody>\n",
       "</table>\n",
       "</div>"
      ],
      "text/plain": [
       "   ID  Age  Gender    Income  Spend_Score Region Customer_Type  \\\n",
       "0   1   56    Male  49770.79           27   East           New   \n",
       "1   2   49  Female  57777.86           35  South           VIP   \n",
       "2   3   50  Female  57966.19           82  South           VIP   \n",
       "3   4   33  Female  59555.88           30  North           VIP   \n",
       "4   5   29    Male  60871.07           14   East           New   \n",
       "\n",
       "   Purchase_Frequency   Savings  Credit_Score Online_Shopping  Loyalty_Points  \n",
       "0                   2  20697.08           620              No            1400  \n",
       "1                   2  24308.49           822              No            3624  \n",
       "2                   2  29561.40           652             Yes            9523  \n",
       "3                   2  22868.76           503              No             244  \n",
       "4                   3  31972.05           454             Yes             375  "
      ]
     },
     "execution_count": 12,
     "metadata": {},
     "output_type": "execute_result"
    }
   ],
   "source": [
    "bank_df.head()                  # It will return top 5"
   ]
  },
  {
   "cell_type": "code",
   "execution_count": 14,
   "id": "77e5ae37-94e1-48e6-9b48-0ad7118540be",
   "metadata": {},
   "outputs": [
    {
     "data": {
      "text/html": [
       "<div>\n",
       "<style scoped>\n",
       "    .dataframe tbody tr th:only-of-type {\n",
       "        vertical-align: middle;\n",
       "    }\n",
       "\n",
       "    .dataframe tbody tr th {\n",
       "        vertical-align: top;\n",
       "    }\n",
       "\n",
       "    .dataframe thead th {\n",
       "        text-align: right;\n",
       "    }\n",
       "</style>\n",
       "<table border=\"1\" class=\"dataframe\">\n",
       "  <thead>\n",
       "    <tr style=\"text-align: right;\">\n",
       "      <th></th>\n",
       "      <th>ID</th>\n",
       "      <th>Age</th>\n",
       "      <th>Gender</th>\n",
       "      <th>Income</th>\n",
       "      <th>Spend_Score</th>\n",
       "      <th>Region</th>\n",
       "      <th>Customer_Type</th>\n",
       "      <th>Purchase_Frequency</th>\n",
       "      <th>Savings</th>\n",
       "      <th>Credit_Score</th>\n",
       "      <th>Online_Shopping</th>\n",
       "      <th>Loyalty_Points</th>\n",
       "    </tr>\n",
       "  </thead>\n",
       "  <tbody>\n",
       "    <tr>\n",
       "      <th>24995</th>\n",
       "      <td>24996</td>\n",
       "      <td>42</td>\n",
       "      <td>Male</td>\n",
       "      <td>47428.10</td>\n",
       "      <td>95</td>\n",
       "      <td>East</td>\n",
       "      <td>Returning</td>\n",
       "      <td>4</td>\n",
       "      <td>19250.61</td>\n",
       "      <td>429</td>\n",
       "      <td>No</td>\n",
       "      <td>3504</td>\n",
       "    </tr>\n",
       "    <tr>\n",
       "      <th>24996</th>\n",
       "      <td>24997</td>\n",
       "      <td>45</td>\n",
       "      <td>Male</td>\n",
       "      <td>73364.48</td>\n",
       "      <td>46</td>\n",
       "      <td>East</td>\n",
       "      <td>Returning</td>\n",
       "      <td>2</td>\n",
       "      <td>26113.03</td>\n",
       "      <td>555</td>\n",
       "      <td>No</td>\n",
       "      <td>148</td>\n",
       "    </tr>\n",
       "    <tr>\n",
       "      <th>24997</th>\n",
       "      <td>24998</td>\n",
       "      <td>60</td>\n",
       "      <td>Male</td>\n",
       "      <td>48966.95</td>\n",
       "      <td>41</td>\n",
       "      <td>South</td>\n",
       "      <td>VIP</td>\n",
       "      <td>1</td>\n",
       "      <td>5739.21</td>\n",
       "      <td>497</td>\n",
       "      <td>Yes</td>\n",
       "      <td>5832</td>\n",
       "    </tr>\n",
       "    <tr>\n",
       "      <th>24998</th>\n",
       "      <td>24999</td>\n",
       "      <td>30</td>\n",
       "      <td>Female</td>\n",
       "      <td>49105.76</td>\n",
       "      <td>85</td>\n",
       "      <td>South</td>\n",
       "      <td>Returning</td>\n",
       "      <td>4</td>\n",
       "      <td>9281.24</td>\n",
       "      <td>729</td>\n",
       "      <td>No</td>\n",
       "      <td>4737</td>\n",
       "    </tr>\n",
       "    <tr>\n",
       "      <th>24999</th>\n",
       "      <td>25000</td>\n",
       "      <td>64</td>\n",
       "      <td>Female</td>\n",
       "      <td>30118.22</td>\n",
       "      <td>52</td>\n",
       "      <td>North</td>\n",
       "      <td>Returning</td>\n",
       "      <td>1</td>\n",
       "      <td>22089.87</td>\n",
       "      <td>476</td>\n",
       "      <td>Yes</td>\n",
       "      <td>4456</td>\n",
       "    </tr>\n",
       "  </tbody>\n",
       "</table>\n",
       "</div>"
      ],
      "text/plain": [
       "          ID  Age  Gender    Income  Spend_Score Region Customer_Type  \\\n",
       "24995  24996   42    Male  47428.10           95   East     Returning   \n",
       "24996  24997   45    Male  73364.48           46   East     Returning   \n",
       "24997  24998   60    Male  48966.95           41  South           VIP   \n",
       "24998  24999   30  Female  49105.76           85  South     Returning   \n",
       "24999  25000   64  Female  30118.22           52  North     Returning   \n",
       "\n",
       "       Purchase_Frequency   Savings  Credit_Score Online_Shopping  \\\n",
       "24995                   4  19250.61           429              No   \n",
       "24996                   2  26113.03           555              No   \n",
       "24997                   1   5739.21           497             Yes   \n",
       "24998                   4   9281.24           729              No   \n",
       "24999                   1  22089.87           476             Yes   \n",
       "\n",
       "       Loyalty_Points  \n",
       "24995            3504  \n",
       "24996             148  \n",
       "24997            5832  \n",
       "24998            4737  \n",
       "24999            4456  "
      ]
     },
     "execution_count": 14,
     "metadata": {},
     "output_type": "execute_result"
    }
   ],
   "source": [
    "bank_df.tail()           # It will return last 5"
   ]
  },
  {
   "cell_type": "markdown",
   "id": "bd8ccc97-ba8f-4551-ad8d-19836e35d610",
   "metadata": {},
   "source": [
    "$Shape$"
   ]
  },
  {
   "cell_type": "code",
   "execution_count": 19,
   "id": "a9a684e4-b98f-471c-9e85-829d656bc440",
   "metadata": {},
   "outputs": [
    {
     "data": {
      "text/plain": [
       "(25000, 12)"
      ]
     },
     "execution_count": 19,
     "metadata": {},
     "output_type": "execute_result"
    }
   ],
   "source": [
    "bank_df.shape\n",
    "\n",
    "# Shape : (m,n)  (rows, columns)\n",
    "# Number of rows are 25000\n",
    "# NUmber of columns are 12"
   ]
  },
  {
   "cell_type": "code",
   "execution_count": 23,
   "id": "bac82a19-8abc-4293-b4ed-73f7517b8561",
   "metadata": {},
   "outputs": [
    {
     "data": {
      "text/plain": [
       "tuple"
      ]
     },
     "execution_count": 23,
     "metadata": {},
     "output_type": "execute_result"
    }
   ],
   "source": [
    "type(bank_df.shape)"
   ]
  },
  {
   "cell_type": "code",
   "execution_count": 29,
   "id": "057a73e0-1a7d-4291-8de8-50bcfa80769b",
   "metadata": {},
   "outputs": [
    {
     "name": "stdout",
     "output_type": "stream",
     "text": [
      "The number of rows =  25000\n",
      "The number of columns =  12\n"
     ]
    }
   ],
   "source": [
    "print(\"The number of rows = \",bank_df.shape[0])\n",
    "print(\"The number of columns = \",bank_df.shape[1])"
   ]
  },
  {
   "cell_type": "markdown",
   "id": "bc60e599-973c-4d42-9753-66b8a39f70ea",
   "metadata": {},
   "source": [
    "$size$"
   ]
  },
  {
   "cell_type": "code",
   "execution_count": 32,
   "id": "b13eaa3c-5ed8-433f-ad27-6f0b2807ae37",
   "metadata": {},
   "outputs": [
    {
     "data": {
      "text/plain": [
       "300000"
      ]
     },
     "execution_count": 32,
     "metadata": {},
     "output_type": "execute_result"
    }
   ],
   "source": [
    "bank_df.size        # rows * columns"
   ]
  },
  {
   "cell_type": "markdown",
   "id": "b251aa93-f6be-4ca6-9be7-9af925a4fa37",
   "metadata": {},
   "source": [
    "$len$"
   ]
  },
  {
   "cell_type": "code",
   "execution_count": 35,
   "id": "d73922a0-6226-455e-9b28-66fc90543777",
   "metadata": {},
   "outputs": [
    {
     "data": {
      "text/plain": [
       "25000"
      ]
     },
     "execution_count": 35,
     "metadata": {},
     "output_type": "execute_result"
    }
   ],
   "source": [
    "len(bank_df)"
   ]
  },
  {
   "cell_type": "markdown",
   "id": "e5ebe667-b208-42fb-a914-520b8dd8bb17",
   "metadata": {},
   "source": [
    "$columns$"
   ]
  },
  {
   "cell_type": "code",
   "execution_count": 38,
   "id": "f93d3922-2a73-49ab-bc4d-b929980fed54",
   "metadata": {},
   "outputs": [
    {
     "data": {
      "text/plain": [
       "Index(['ID', 'Age', 'Gender', 'Income', 'Spend_Score', 'Region',\n",
       "       'Customer_Type', 'Purchase_Frequency', 'Savings', 'Credit_Score',\n",
       "       'Online_Shopping', 'Loyalty_Points'],\n",
       "      dtype='object')"
      ]
     },
     "execution_count": 38,
     "metadata": {},
     "output_type": "execute_result"
    }
   ],
   "source": [
    "bank_df.columns       # It will provide all columns"
   ]
  },
  {
   "cell_type": "code",
   "execution_count": 42,
   "id": "0bc25bd4-316e-43ce-9fbe-ec8595a8acaf",
   "metadata": {},
   "outputs": [
    {
     "data": {
      "text/plain": [
       "['ID',\n",
       " 'Age',\n",
       " 'Gender',\n",
       " 'Income',\n",
       " 'Spend_Score',\n",
       " 'Region',\n",
       " 'Customer_Type',\n",
       " 'Purchase_Frequency',\n",
       " 'Savings',\n",
       " 'Credit_Score',\n",
       " 'Online_Shopping',\n",
       " 'Loyalty_Points']"
      ]
     },
     "execution_count": 42,
     "metadata": {},
     "output_type": "execute_result"
    }
   ],
   "source": [
    "cols=bank_df.columns           # It is string\n",
    "cols.to_list()                 # Converting to list"
   ]
  },
  {
   "cell_type": "markdown",
   "id": "6783f3ca-19fd-4f1b-8500-dd89b7174b9b",
   "metadata": {},
   "source": [
    "$dtypes$"
   ]
  },
  {
   "cell_type": "code",
   "execution_count": 50,
   "id": "ba4ff254-04b6-4908-b5c6-c964f2f8a87d",
   "metadata": {},
   "outputs": [
    {
     "data": {
      "text/plain": [
       "ID                      int64\n",
       "Age                     int64\n",
       "Gender                 object\n",
       "Income                float64\n",
       "Spend_Score             int64\n",
       "Region                 object\n",
       "Customer_Type          object\n",
       "Purchase_Frequency      int64\n",
       "Savings               float64\n",
       "Credit_Score            int64\n",
       "Online_Shopping        object\n",
       "Loyalty_Points          int64\n",
       "dtype: object"
      ]
     },
     "execution_count": 50,
     "metadata": {},
     "output_type": "execute_result"
    }
   ],
   "source": [
    "bank_df.dtypes\n",
    "# Object : The values under that columns are categorical\n",
    "# Int/Float : The values under that columns are numerical"
   ]
  },
  {
   "cell_type": "code",
   "execution_count": 52,
   "id": "f84525a7-3419-42fb-a3fd-bd8fac01ff30",
   "metadata": {},
   "outputs": [
    {
     "data": {
      "text/plain": [
       "pandas.core.series.Series"
      ]
     },
     "execution_count": 52,
     "metadata": {},
     "output_type": "execute_result"
    }
   ],
   "source": [
    "type(bank_df.dtypes)      # Series type"
   ]
  },
  {
   "cell_type": "markdown",
   "id": "dfe43079-5b6c-49e7-b62c-d69e405ad30b",
   "metadata": {},
   "source": [
    "$info$"
   ]
  },
  {
   "cell_type": "code",
   "execution_count": 55,
   "id": "b181fb9b-202a-447f-9a4a-284adefc42c3",
   "metadata": {},
   "outputs": [
    {
     "name": "stdout",
     "output_type": "stream",
     "text": [
      "<class 'pandas.core.frame.DataFrame'>\n",
      "RangeIndex: 25000 entries, 0 to 24999\n",
      "Data columns (total 12 columns):\n",
      " #   Column              Non-Null Count  Dtype  \n",
      "---  ------              --------------  -----  \n",
      " 0   ID                  25000 non-null  int64  \n",
      " 1   Age                 25000 non-null  int64  \n",
      " 2   Gender              25000 non-null  object \n",
      " 3   Income              25000 non-null  float64\n",
      " 4   Spend_Score         25000 non-null  int64  \n",
      " 5   Region              25000 non-null  object \n",
      " 6   Customer_Type       25000 non-null  object \n",
      " 7   Purchase_Frequency  25000 non-null  int64  \n",
      " 8   Savings             25000 non-null  float64\n",
      " 9   Credit_Score        25000 non-null  int64  \n",
      " 10  Online_Shopping     25000 non-null  object \n",
      " 11  Loyalty_Points      25000 non-null  int64  \n",
      "dtypes: float64(2), int64(6), object(4)\n",
      "memory usage: 2.3+ MB\n"
     ]
    }
   ],
   "source": [
    "bank_df.info()"
   ]
  },
  {
   "cell_type": "markdown",
   "id": "3857f58f-8954-453b-bd82-905c9baf0f25",
   "metadata": {},
   "source": [
    "$isnull$"
   ]
  },
  {
   "cell_type": "code",
   "execution_count": 58,
   "id": "1a479ee9-ca67-4b95-9b06-20038e77b673",
   "metadata": {},
   "outputs": [
    {
     "data": {
      "text/html": [
       "<div>\n",
       "<style scoped>\n",
       "    .dataframe tbody tr th:only-of-type {\n",
       "        vertical-align: middle;\n",
       "    }\n",
       "\n",
       "    .dataframe tbody tr th {\n",
       "        vertical-align: top;\n",
       "    }\n",
       "\n",
       "    .dataframe thead th {\n",
       "        text-align: right;\n",
       "    }\n",
       "</style>\n",
       "<table border=\"1\" class=\"dataframe\">\n",
       "  <thead>\n",
       "    <tr style=\"text-align: right;\">\n",
       "      <th></th>\n",
       "      <th>ID</th>\n",
       "      <th>Age</th>\n",
       "      <th>Gender</th>\n",
       "      <th>Income</th>\n",
       "      <th>Spend_Score</th>\n",
       "      <th>Region</th>\n",
       "      <th>Customer_Type</th>\n",
       "      <th>Purchase_Frequency</th>\n",
       "      <th>Savings</th>\n",
       "      <th>Credit_Score</th>\n",
       "      <th>Online_Shopping</th>\n",
       "      <th>Loyalty_Points</th>\n",
       "    </tr>\n",
       "  </thead>\n",
       "  <tbody>\n",
       "    <tr>\n",
       "      <th>0</th>\n",
       "      <td>False</td>\n",
       "      <td>False</td>\n",
       "      <td>False</td>\n",
       "      <td>False</td>\n",
       "      <td>False</td>\n",
       "      <td>False</td>\n",
       "      <td>False</td>\n",
       "      <td>False</td>\n",
       "      <td>False</td>\n",
       "      <td>False</td>\n",
       "      <td>False</td>\n",
       "      <td>False</td>\n",
       "    </tr>\n",
       "    <tr>\n",
       "      <th>1</th>\n",
       "      <td>False</td>\n",
       "      <td>False</td>\n",
       "      <td>False</td>\n",
       "      <td>False</td>\n",
       "      <td>False</td>\n",
       "      <td>False</td>\n",
       "      <td>False</td>\n",
       "      <td>False</td>\n",
       "      <td>False</td>\n",
       "      <td>False</td>\n",
       "      <td>False</td>\n",
       "      <td>False</td>\n",
       "    </tr>\n",
       "    <tr>\n",
       "      <th>2</th>\n",
       "      <td>False</td>\n",
       "      <td>False</td>\n",
       "      <td>False</td>\n",
       "      <td>False</td>\n",
       "      <td>False</td>\n",
       "      <td>False</td>\n",
       "      <td>False</td>\n",
       "      <td>False</td>\n",
       "      <td>False</td>\n",
       "      <td>False</td>\n",
       "      <td>False</td>\n",
       "      <td>False</td>\n",
       "    </tr>\n",
       "    <tr>\n",
       "      <th>3</th>\n",
       "      <td>False</td>\n",
       "      <td>False</td>\n",
       "      <td>False</td>\n",
       "      <td>False</td>\n",
       "      <td>False</td>\n",
       "      <td>False</td>\n",
       "      <td>False</td>\n",
       "      <td>False</td>\n",
       "      <td>False</td>\n",
       "      <td>False</td>\n",
       "      <td>False</td>\n",
       "      <td>False</td>\n",
       "    </tr>\n",
       "    <tr>\n",
       "      <th>4</th>\n",
       "      <td>False</td>\n",
       "      <td>False</td>\n",
       "      <td>False</td>\n",
       "      <td>False</td>\n",
       "      <td>False</td>\n",
       "      <td>False</td>\n",
       "      <td>False</td>\n",
       "      <td>False</td>\n",
       "      <td>False</td>\n",
       "      <td>False</td>\n",
       "      <td>False</td>\n",
       "      <td>False</td>\n",
       "    </tr>\n",
       "    <tr>\n",
       "      <th>...</th>\n",
       "      <td>...</td>\n",
       "      <td>...</td>\n",
       "      <td>...</td>\n",
       "      <td>...</td>\n",
       "      <td>...</td>\n",
       "      <td>...</td>\n",
       "      <td>...</td>\n",
       "      <td>...</td>\n",
       "      <td>...</td>\n",
       "      <td>...</td>\n",
       "      <td>...</td>\n",
       "      <td>...</td>\n",
       "    </tr>\n",
       "    <tr>\n",
       "      <th>24995</th>\n",
       "      <td>False</td>\n",
       "      <td>False</td>\n",
       "      <td>False</td>\n",
       "      <td>False</td>\n",
       "      <td>False</td>\n",
       "      <td>False</td>\n",
       "      <td>False</td>\n",
       "      <td>False</td>\n",
       "      <td>False</td>\n",
       "      <td>False</td>\n",
       "      <td>False</td>\n",
       "      <td>False</td>\n",
       "    </tr>\n",
       "    <tr>\n",
       "      <th>24996</th>\n",
       "      <td>False</td>\n",
       "      <td>False</td>\n",
       "      <td>False</td>\n",
       "      <td>False</td>\n",
       "      <td>False</td>\n",
       "      <td>False</td>\n",
       "      <td>False</td>\n",
       "      <td>False</td>\n",
       "      <td>False</td>\n",
       "      <td>False</td>\n",
       "      <td>False</td>\n",
       "      <td>False</td>\n",
       "    </tr>\n",
       "    <tr>\n",
       "      <th>24997</th>\n",
       "      <td>False</td>\n",
       "      <td>False</td>\n",
       "      <td>False</td>\n",
       "      <td>False</td>\n",
       "      <td>False</td>\n",
       "      <td>False</td>\n",
       "      <td>False</td>\n",
       "      <td>False</td>\n",
       "      <td>False</td>\n",
       "      <td>False</td>\n",
       "      <td>False</td>\n",
       "      <td>False</td>\n",
       "    </tr>\n",
       "    <tr>\n",
       "      <th>24998</th>\n",
       "      <td>False</td>\n",
       "      <td>False</td>\n",
       "      <td>False</td>\n",
       "      <td>False</td>\n",
       "      <td>False</td>\n",
       "      <td>False</td>\n",
       "      <td>False</td>\n",
       "      <td>False</td>\n",
       "      <td>False</td>\n",
       "      <td>False</td>\n",
       "      <td>False</td>\n",
       "      <td>False</td>\n",
       "    </tr>\n",
       "    <tr>\n",
       "      <th>24999</th>\n",
       "      <td>False</td>\n",
       "      <td>False</td>\n",
       "      <td>False</td>\n",
       "      <td>False</td>\n",
       "      <td>False</td>\n",
       "      <td>False</td>\n",
       "      <td>False</td>\n",
       "      <td>False</td>\n",
       "      <td>False</td>\n",
       "      <td>False</td>\n",
       "      <td>False</td>\n",
       "      <td>False</td>\n",
       "    </tr>\n",
       "  </tbody>\n",
       "</table>\n",
       "<p>25000 rows × 12 columns</p>\n",
       "</div>"
      ],
      "text/plain": [
       "          ID    Age  Gender  Income  Spend_Score  Region  Customer_Type  \\\n",
       "0      False  False   False   False        False   False          False   \n",
       "1      False  False   False   False        False   False          False   \n",
       "2      False  False   False   False        False   False          False   \n",
       "3      False  False   False   False        False   False          False   \n",
       "4      False  False   False   False        False   False          False   \n",
       "...      ...    ...     ...     ...          ...     ...            ...   \n",
       "24995  False  False   False   False        False   False          False   \n",
       "24996  False  False   False   False        False   False          False   \n",
       "24997  False  False   False   False        False   False          False   \n",
       "24998  False  False   False   False        False   False          False   \n",
       "24999  False  False   False   False        False   False          False   \n",
       "\n",
       "       Purchase_Frequency  Savings  Credit_Score  Online_Shopping  \\\n",
       "0                   False    False         False            False   \n",
       "1                   False    False         False            False   \n",
       "2                   False    False         False            False   \n",
       "3                   False    False         False            False   \n",
       "4                   False    False         False            False   \n",
       "...                   ...      ...           ...              ...   \n",
       "24995               False    False         False            False   \n",
       "24996               False    False         False            False   \n",
       "24997               False    False         False            False   \n",
       "24998               False    False         False            False   \n",
       "24999               False    False         False            False   \n",
       "\n",
       "       Loyalty_Points  \n",
       "0               False  \n",
       "1               False  \n",
       "2               False  \n",
       "3               False  \n",
       "4               False  \n",
       "...               ...  \n",
       "24995           False  \n",
       "24996           False  \n",
       "24997           False  \n",
       "24998           False  \n",
       "24999           False  \n",
       "\n",
       "[25000 rows x 12 columns]"
      ]
     },
     "execution_count": 58,
     "metadata": {},
     "output_type": "execute_result"
    }
   ],
   "source": [
    "bank_df.isnull()"
   ]
  },
  {
   "cell_type": "code",
   "execution_count": 60,
   "id": "634f0793-fa3d-4ba4-b520-33b0bb215d80",
   "metadata": {},
   "outputs": [
    {
     "data": {
      "text/plain": [
       "ID                    0\n",
       "Age                   0\n",
       "Gender                0\n",
       "Income                0\n",
       "Spend_Score           0\n",
       "Region                0\n",
       "Customer_Type         0\n",
       "Purchase_Frequency    0\n",
       "Savings               0\n",
       "Credit_Score          0\n",
       "Online_Shopping       0\n",
       "Loyalty_Points        0\n",
       "dtype: int64"
      ]
     },
     "execution_count": 60,
     "metadata": {},
     "output_type": "execute_result"
    }
   ],
   "source": [
    "bank_df.isnull().sum()"
   ]
  },
  {
   "cell_type": "markdown",
   "id": "3e199cab-2c78-48b8-b765-2c4fe22a7a56",
   "metadata": {},
   "source": [
    "- read the csv file\n",
    "- head\n",
    "- tail\n",
    "- shape\n",
    "- size\n",
    "- len\n",
    "- columns\n",
    "- dtypes\n",
    "- info\n",
    "- isnull/isna"
   ]
  },
  {
   "cell_type": "markdown",
   "id": "caef1bcc-7334-4cbc-9400-2be77ea9e44e",
   "metadata": {},
   "source": [
    "- **Not callable Error**\n",
    "    - It is not a function but you provided brackets remove those brackets\n",
    "- **Bound method or Built-in function Error**\n",
    "    - Please provide the brackets\n",
    "- **Attribute Error**\n",
    "    - You provided a method which is not available\n",
    "    - Please check the spelling or use dir to check the method exist or not"
   ]
  },
  {
   "cell_type": "code",
   "execution_count": 92,
   "id": "0d4df7a4-06ec-4a3b-94d3-31a4d6cbb99d",
   "metadata": {},
   "outputs": [
    {
     "name": "stdout",
     "output_type": "stream",
     "text": [
      "Categorical columns =  ['Gender', 'Region', 'Customer_Type', 'Online_Shopping']\n",
      "Numerical columns =  ['ID', 'Age', 'Income', 'Spend_Score', 'Purchase_Frequency', 'Savings', 'Credit_Score', 'Loyalty_Points']\n"
     ]
    }
   ],
   "source": [
    "bank_df.dtypes\n",
    "# I want to separate categorical columns and numerical columns\n",
    "df_d=dict(bank_df.dtypes)\n",
    "# for i in df_d:\n",
    "#     if df_d[i]=='object':\n",
    "#         print(i,df_d[i])\n",
    "\n",
    "cat_col=[i for i in df_d if df_d[i]=='object']\n",
    "num_col=[i for i in df_d if df_d[i]!='object']\n",
    "print(\"Categorical columns = \",cat_col)\n",
    "print(\"Numerical columns = \",num_col)"
   ]
  },
  {
   "cell_type": "code",
   "execution_count": 94,
   "id": "83a50185-7379-4c0a-b9db-06b994d1c183",
   "metadata": {},
   "outputs": [
    {
     "data": {
      "text/plain": [
       "Index(['Gender', 'Region', 'Customer_Type', 'Online_Shopping'], dtype='object')"
      ]
     },
     "execution_count": 94,
     "metadata": {},
     "output_type": "execute_result"
    }
   ],
   "source": [
    "bank_df.select_dtypes(include='object').columns"
   ]
  },
  {
   "cell_type": "code",
   "execution_count": 96,
   "id": "7b322dc3-6cb7-492e-87de-1bbd1c49c01e",
   "metadata": {},
   "outputs": [
    {
     "data": {
      "text/plain": [
       "Index(['ID', 'Age', 'Income', 'Spend_Score', 'Purchase_Frequency', 'Savings',\n",
       "       'Credit_Score', 'Loyalty_Points'],\n",
       "      dtype='object')"
      ]
     },
     "execution_count": 96,
     "metadata": {},
     "output_type": "execute_result"
    }
   ],
   "source": [
    "bank_df.select_dtypes(exclude='object').columns"
   ]
  },
  {
   "cell_type": "code",
   "execution_count": 98,
   "id": "cc4fc6b5-9670-42cc-8825-629a4b09fa43",
   "metadata": {},
   "outputs": [],
   "source": [
    "# head : first 5 rows\n",
    "# tail : last 5 rows\n",
    "\n",
    "# You want some middle rows\n",
    "# You want specific rows\n",
    "# You want some specific columns data"
   ]
  },
  {
   "cell_type": "markdown",
   "id": "1cb91850-b548-4629-89fc-cdceae9113f2",
   "metadata": {},
   "source": [
    "$take-loc-iloc$"
   ]
  },
  {
   "cell_type": "code",
   "execution_count": 101,
   "id": "c6b84c55-c45e-4892-a5a8-5993fb14facb",
   "metadata": {},
   "outputs": [
    {
     "data": {
      "text/html": [
       "<div>\n",
       "<style scoped>\n",
       "    .dataframe tbody tr th:only-of-type {\n",
       "        vertical-align: middle;\n",
       "    }\n",
       "\n",
       "    .dataframe tbody tr th {\n",
       "        vertical-align: top;\n",
       "    }\n",
       "\n",
       "    .dataframe thead th {\n",
       "        text-align: right;\n",
       "    }\n",
       "</style>\n",
       "<table border=\"1\" class=\"dataframe\">\n",
       "  <thead>\n",
       "    <tr style=\"text-align: right;\">\n",
       "      <th></th>\n",
       "      <th>ID</th>\n",
       "      <th>Age</th>\n",
       "      <th>Gender</th>\n",
       "      <th>Income</th>\n",
       "      <th>Spend_Score</th>\n",
       "      <th>Region</th>\n",
       "      <th>Customer_Type</th>\n",
       "      <th>Purchase_Frequency</th>\n",
       "      <th>Savings</th>\n",
       "      <th>Credit_Score</th>\n",
       "      <th>Online_Shopping</th>\n",
       "      <th>Loyalty_Points</th>\n",
       "    </tr>\n",
       "  </thead>\n",
       "  <tbody>\n",
       "    <tr>\n",
       "      <th>1</th>\n",
       "      <td>2</td>\n",
       "      <td>49</td>\n",
       "      <td>Female</td>\n",
       "      <td>57777.86</td>\n",
       "      <td>35</td>\n",
       "      <td>South</td>\n",
       "      <td>VIP</td>\n",
       "      <td>2</td>\n",
       "      <td>24308.49</td>\n",
       "      <td>822</td>\n",
       "      <td>No</td>\n",
       "      <td>3624</td>\n",
       "    </tr>\n",
       "    <tr>\n",
       "      <th>2</th>\n",
       "      <td>3</td>\n",
       "      <td>50</td>\n",
       "      <td>Female</td>\n",
       "      <td>57966.19</td>\n",
       "      <td>82</td>\n",
       "      <td>South</td>\n",
       "      <td>VIP</td>\n",
       "      <td>2</td>\n",
       "      <td>29561.40</td>\n",
       "      <td>652</td>\n",
       "      <td>Yes</td>\n",
       "      <td>9523</td>\n",
       "    </tr>\n",
       "    <tr>\n",
       "      <th>3</th>\n",
       "      <td>4</td>\n",
       "      <td>33</td>\n",
       "      <td>Female</td>\n",
       "      <td>59555.88</td>\n",
       "      <td>30</td>\n",
       "      <td>North</td>\n",
       "      <td>VIP</td>\n",
       "      <td>2</td>\n",
       "      <td>22868.76</td>\n",
       "      <td>503</td>\n",
       "      <td>No</td>\n",
       "      <td>244</td>\n",
       "    </tr>\n",
       "  </tbody>\n",
       "</table>\n",
       "</div>"
      ],
      "text/plain": [
       "   ID  Age  Gender    Income  Spend_Score Region Customer_Type  \\\n",
       "1   2   49  Female  57777.86           35  South           VIP   \n",
       "2   3   50  Female  57966.19           82  South           VIP   \n",
       "3   4   33  Female  59555.88           30  North           VIP   \n",
       "\n",
       "   Purchase_Frequency   Savings  Credit_Score Online_Shopping  Loyalty_Points  \n",
       "1                   2  24308.49           822              No            3624  \n",
       "2                   2  29561.40           652             Yes            9523  \n",
       "3                   2  22868.76           503              No             244  "
      ]
     },
     "execution_count": 101,
     "metadata": {},
     "output_type": "execute_result"
    }
   ],
   "source": [
    "bank_df.take([1,2,3])\n",
    "# By default axis=0       -----> Rows\n",
    "# Provide the rows which has index=1,2,3 and all the columns"
   ]
  },
  {
   "cell_type": "code",
   "execution_count": 103,
   "id": "879d21bd-3048-4693-854f-a6c88d903b13",
   "metadata": {},
   "outputs": [
    {
     "data": {
      "text/html": [
       "<div>\n",
       "<style scoped>\n",
       "    .dataframe tbody tr th:only-of-type {\n",
       "        vertical-align: middle;\n",
       "    }\n",
       "\n",
       "    .dataframe tbody tr th {\n",
       "        vertical-align: top;\n",
       "    }\n",
       "\n",
       "    .dataframe thead th {\n",
       "        text-align: right;\n",
       "    }\n",
       "</style>\n",
       "<table border=\"1\" class=\"dataframe\">\n",
       "  <thead>\n",
       "    <tr style=\"text-align: right;\">\n",
       "      <th></th>\n",
       "      <th>Age</th>\n",
       "      <th>Gender</th>\n",
       "      <th>Income</th>\n",
       "    </tr>\n",
       "  </thead>\n",
       "  <tbody>\n",
       "    <tr>\n",
       "      <th>0</th>\n",
       "      <td>56</td>\n",
       "      <td>Male</td>\n",
       "      <td>49770.79</td>\n",
       "    </tr>\n",
       "    <tr>\n",
       "      <th>1</th>\n",
       "      <td>49</td>\n",
       "      <td>Female</td>\n",
       "      <td>57777.86</td>\n",
       "    </tr>\n",
       "    <tr>\n",
       "      <th>2</th>\n",
       "      <td>50</td>\n",
       "      <td>Female</td>\n",
       "      <td>57966.19</td>\n",
       "    </tr>\n",
       "    <tr>\n",
       "      <th>3</th>\n",
       "      <td>33</td>\n",
       "      <td>Female</td>\n",
       "      <td>59555.88</td>\n",
       "    </tr>\n",
       "    <tr>\n",
       "      <th>4</th>\n",
       "      <td>29</td>\n",
       "      <td>Male</td>\n",
       "      <td>60871.07</td>\n",
       "    </tr>\n",
       "    <tr>\n",
       "      <th>...</th>\n",
       "      <td>...</td>\n",
       "      <td>...</td>\n",
       "      <td>...</td>\n",
       "    </tr>\n",
       "    <tr>\n",
       "      <th>24995</th>\n",
       "      <td>42</td>\n",
       "      <td>Male</td>\n",
       "      <td>47428.10</td>\n",
       "    </tr>\n",
       "    <tr>\n",
       "      <th>24996</th>\n",
       "      <td>45</td>\n",
       "      <td>Male</td>\n",
       "      <td>73364.48</td>\n",
       "    </tr>\n",
       "    <tr>\n",
       "      <th>24997</th>\n",
       "      <td>60</td>\n",
       "      <td>Male</td>\n",
       "      <td>48966.95</td>\n",
       "    </tr>\n",
       "    <tr>\n",
       "      <th>24998</th>\n",
       "      <td>30</td>\n",
       "      <td>Female</td>\n",
       "      <td>49105.76</td>\n",
       "    </tr>\n",
       "    <tr>\n",
       "      <th>24999</th>\n",
       "      <td>64</td>\n",
       "      <td>Female</td>\n",
       "      <td>30118.22</td>\n",
       "    </tr>\n",
       "  </tbody>\n",
       "</table>\n",
       "<p>25000 rows × 3 columns</p>\n",
       "</div>"
      ],
      "text/plain": [
       "       Age  Gender    Income\n",
       "0       56    Male  49770.79\n",
       "1       49  Female  57777.86\n",
       "2       50  Female  57966.19\n",
       "3       33  Female  59555.88\n",
       "4       29    Male  60871.07\n",
       "...    ...     ...       ...\n",
       "24995   42    Male  47428.10\n",
       "24996   45    Male  73364.48\n",
       "24997   60    Male  48966.95\n",
       "24998   30  Female  49105.76\n",
       "24999   64  Female  30118.22\n",
       "\n",
       "[25000 rows x 3 columns]"
      ]
     },
     "execution_count": 103,
     "metadata": {},
     "output_type": "execute_result"
    }
   ],
   "source": [
    "bank_df.take([1,2,3],axis=1)"
   ]
  },
  {
   "cell_type": "code",
   "execution_count": 107,
   "id": "a8787619-d263-4076-aff8-5d69732b524c",
   "metadata": {},
   "outputs": [
    {
     "data": {
      "text/html": [
       "<div>\n",
       "<style scoped>\n",
       "    .dataframe tbody tr th:only-of-type {\n",
       "        vertical-align: middle;\n",
       "    }\n",
       "\n",
       "    .dataframe tbody tr th {\n",
       "        vertical-align: top;\n",
       "    }\n",
       "\n",
       "    .dataframe thead th {\n",
       "        text-align: right;\n",
       "    }\n",
       "</style>\n",
       "<table border=\"1\" class=\"dataframe\">\n",
       "  <thead>\n",
       "    <tr style=\"text-align: right;\">\n",
       "      <th></th>\n",
       "      <th>ID</th>\n",
       "      <th>Age</th>\n",
       "      <th>Gender</th>\n",
       "      <th>Income</th>\n",
       "      <th>Spend_Score</th>\n",
       "      <th>Region</th>\n",
       "      <th>Customer_Type</th>\n",
       "      <th>Purchase_Frequency</th>\n",
       "      <th>Savings</th>\n",
       "      <th>Credit_Score</th>\n",
       "      <th>Online_Shopping</th>\n",
       "      <th>Loyalty_Points</th>\n",
       "    </tr>\n",
       "  </thead>\n",
       "  <tbody>\n",
       "    <tr>\n",
       "      <th>100</th>\n",
       "      <td>101</td>\n",
       "      <td>30</td>\n",
       "      <td>Female</td>\n",
       "      <td>32510.40</td>\n",
       "      <td>25</td>\n",
       "      <td>West</td>\n",
       "      <td>VIP</td>\n",
       "      <td>6</td>\n",
       "      <td>27786.85</td>\n",
       "      <td>671</td>\n",
       "      <td>Yes</td>\n",
       "      <td>2070</td>\n",
       "    </tr>\n",
       "    <tr>\n",
       "      <th>200</th>\n",
       "      <td>201</td>\n",
       "      <td>52</td>\n",
       "      <td>Male</td>\n",
       "      <td>58819.87</td>\n",
       "      <td>30</td>\n",
       "      <td>West</td>\n",
       "      <td>Returning</td>\n",
       "      <td>7</td>\n",
       "      <td>35114.91</td>\n",
       "      <td>495</td>\n",
       "      <td>Yes</td>\n",
       "      <td>1096</td>\n",
       "    </tr>\n",
       "    <tr>\n",
       "      <th>300</th>\n",
       "      <td>301</td>\n",
       "      <td>27</td>\n",
       "      <td>Female</td>\n",
       "      <td>52949.07</td>\n",
       "      <td>25</td>\n",
       "      <td>North</td>\n",
       "      <td>New</td>\n",
       "      <td>3</td>\n",
       "      <td>-4165.86</td>\n",
       "      <td>836</td>\n",
       "      <td>No</td>\n",
       "      <td>7081</td>\n",
       "    </tr>\n",
       "  </tbody>\n",
       "</table>\n",
       "</div>"
      ],
      "text/plain": [
       "      ID  Age  Gender    Income  Spend_Score Region Customer_Type  \\\n",
       "100  101   30  Female  32510.40           25   West           VIP   \n",
       "200  201   52    Male  58819.87           30   West     Returning   \n",
       "300  301   27  Female  52949.07           25  North           New   \n",
       "\n",
       "     Purchase_Frequency   Savings  Credit_Score Online_Shopping  \\\n",
       "100                   6  27786.85           671             Yes   \n",
       "200                   7  35114.91           495             Yes   \n",
       "300                   3  -4165.86           836              No   \n",
       "\n",
       "     Loyalty_Points  \n",
       "100            2070  \n",
       "200            1096  \n",
       "300            7081  "
      ]
     },
     "execution_count": 107,
     "metadata": {},
     "output_type": "execute_result"
    }
   ],
   "source": [
    "bank_df.take([100,200,300])"
   ]
  },
  {
   "cell_type": "code",
   "execution_count": 109,
   "id": "564cf785-2822-49e1-b29f-e3027ef7b230",
   "metadata": {},
   "outputs": [
    {
     "data": {
      "text/html": [
       "<div>\n",
       "<style scoped>\n",
       "    .dataframe tbody tr th:only-of-type {\n",
       "        vertical-align: middle;\n",
       "    }\n",
       "\n",
       "    .dataframe tbody tr th {\n",
       "        vertical-align: top;\n",
       "    }\n",
       "\n",
       "    .dataframe thead th {\n",
       "        text-align: right;\n",
       "    }\n",
       "</style>\n",
       "<table border=\"1\" class=\"dataframe\">\n",
       "  <thead>\n",
       "    <tr style=\"text-align: right;\">\n",
       "      <th></th>\n",
       "      <th>Gender</th>\n",
       "      <th>Income</th>\n",
       "    </tr>\n",
       "  </thead>\n",
       "  <tbody>\n",
       "    <tr>\n",
       "      <th>100</th>\n",
       "      <td>Female</td>\n",
       "      <td>32510.40</td>\n",
       "    </tr>\n",
       "    <tr>\n",
       "      <th>200</th>\n",
       "      <td>Male</td>\n",
       "      <td>58819.87</td>\n",
       "    </tr>\n",
       "    <tr>\n",
       "      <th>300</th>\n",
       "      <td>Female</td>\n",
       "      <td>52949.07</td>\n",
       "    </tr>\n",
       "  </tbody>\n",
       "</table>\n",
       "</div>"
      ],
      "text/plain": [
       "     Gender    Income\n",
       "100  Female  32510.40\n",
       "200    Male  58819.87\n",
       "300  Female  52949.07"
      ]
     },
     "execution_count": 109,
     "metadata": {},
     "output_type": "execute_result"
    }
   ],
   "source": [
    "bank_df.take([100,200,300]).take([2,3],axis=1)"
   ]
  },
  {
   "cell_type": "code",
   "execution_count": null,
   "id": "5aef149d-5796-4d2e-8d17-a118ea203bcc",
   "metadata": {},
   "outputs": [],
   "source": [
    "bank_df.take([1,2,3])                              # Specific rows and all the columns\n",
    "bank_df.take([1,2,3],axis=1)                       # Specific column and all the rows\n",
    "bank_df.take([100,200,300]).take([2,3],axis=1)     # Specific rows and specific column"
   ]
  },
  {
   "cell_type": "code",
   "execution_count": null,
   "id": "d7e55c03-bb2d-4514-b78f-2cb9a6b9d20b",
   "metadata": {},
   "outputs": [],
   "source": [
    "- Read the data\n",
    "- Quick checks\n",
    "- type : list ==== list methods\n",
    "         str  ==== string methods\n",
    "         dict ==== dict methods\n",
    "        index ==== has some methods but limited ==== convert into other\n",
    "\n",
    "- head/tail/shape/size/len\n",
    "- columns/dtypes/info\n",
    "- categorical and numerical\n",
    "\n",
    "- take based on axis either rows or columns (problem)"
   ]
  },
  {
   "cell_type": "markdown",
   "id": "0a55d438-f6cb-44f1-8dcd-30cf042d0aff",
   "metadata": {},
   "source": [
    "$iloc$"
   ]
  },
  {
   "cell_type": "code",
   "execution_count": null,
   "id": "26803bfc-bfa7-4721-a97c-98e40f5846f6",
   "metadata": {},
   "outputs": [],
   "source": [
    "bank_df.iloc[<rows>,<columns>]\n",
    "bank_df.iloc[<start:end>,<start:end>]\n",
    "bank_df.iloc[[rows index],[columns index]]"
   ]
  },
  {
   "cell_type": "code",
   "execution_count": 20,
   "id": "b20262b3-6c6d-47b2-b5a1-028f292f1087",
   "metadata": {},
   "outputs": [
    {
     "data": {
      "text/html": [
       "<div>\n",
       "<style scoped>\n",
       "    .dataframe tbody tr th:only-of-type {\n",
       "        vertical-align: middle;\n",
       "    }\n",
       "\n",
       "    .dataframe tbody tr th {\n",
       "        vertical-align: top;\n",
       "    }\n",
       "\n",
       "    .dataframe thead th {\n",
       "        text-align: right;\n",
       "    }\n",
       "</style>\n",
       "<table border=\"1\" class=\"dataframe\">\n",
       "  <thead>\n",
       "    <tr style=\"text-align: right;\">\n",
       "      <th></th>\n",
       "      <th>Gender</th>\n",
       "      <th>Income</th>\n",
       "      <th>Spend_Score</th>\n",
       "      <th>Region</th>\n",
       "    </tr>\n",
       "  </thead>\n",
       "  <tbody>\n",
       "    <tr>\n",
       "      <th>5</th>\n",
       "      <td>Female</td>\n",
       "      <td>54458.83</td>\n",
       "      <td>35</td>\n",
       "      <td>East</td>\n",
       "    </tr>\n",
       "    <tr>\n",
       "      <th>6</th>\n",
       "      <td>Female</td>\n",
       "      <td>60843.35</td>\n",
       "      <td>34</td>\n",
       "      <td>South</td>\n",
       "    </tr>\n",
       "    <tr>\n",
       "      <th>7</th>\n",
       "      <td>Male</td>\n",
       "      <td>41603.15</td>\n",
       "      <td>84</td>\n",
       "      <td>East</td>\n",
       "    </tr>\n",
       "    <tr>\n",
       "      <th>8</th>\n",
       "      <td>Male</td>\n",
       "      <td>67645.38</td>\n",
       "      <td>15</td>\n",
       "      <td>North</td>\n",
       "    </tr>\n",
       "    <tr>\n",
       "      <th>9</th>\n",
       "      <td>Female</td>\n",
       "      <td>43099.04</td>\n",
       "      <td>7</td>\n",
       "      <td>South</td>\n",
       "    </tr>\n",
       "  </tbody>\n",
       "</table>\n",
       "</div>"
      ],
      "text/plain": [
       "   Gender    Income  Spend_Score Region\n",
       "5  Female  54458.83           35   East\n",
       "6  Female  60843.35           34  South\n",
       "7    Male  41603.15           84   East\n",
       "8    Male  67645.38           15  North\n",
       "9  Female  43099.04            7  South"
      ]
     },
     "execution_count": 20,
     "metadata": {},
     "output_type": "execute_result"
    }
   ],
   "source": [
    "bank_df.iloc[5:10,2:6]\n",
    "# I want select rows has index 5 to 9\n",
    "# I want select columns has index 2 to 5"
   ]
  },
  {
   "cell_type": "code",
   "execution_count": 30,
   "id": "ab874a2e-01f3-411c-b5cf-07e06d02e4e6",
   "metadata": {},
   "outputs": [
    {
     "data": {
      "text/html": [
       "<div>\n",
       "<style scoped>\n",
       "    .dataframe tbody tr th:only-of-type {\n",
       "        vertical-align: middle;\n",
       "    }\n",
       "\n",
       "    .dataframe tbody tr th {\n",
       "        vertical-align: top;\n",
       "    }\n",
       "\n",
       "    .dataframe thead th {\n",
       "        text-align: right;\n",
       "    }\n",
       "</style>\n",
       "<table border=\"1\" class=\"dataframe\">\n",
       "  <thead>\n",
       "    <tr style=\"text-align: right;\">\n",
       "      <th></th>\n",
       "      <th>ID</th>\n",
       "      <th>Age</th>\n",
       "      <th>Gender</th>\n",
       "      <th>Income</th>\n",
       "      <th>Spend_Score</th>\n",
       "      <th>Region</th>\n",
       "      <th>Customer_Type</th>\n",
       "      <th>Purchase_Frequency</th>\n",
       "      <th>Savings</th>\n",
       "      <th>Credit_Score</th>\n",
       "      <th>Online_Shopping</th>\n",
       "      <th>Loyalty_Points</th>\n",
       "    </tr>\n",
       "  </thead>\n",
       "  <tbody>\n",
       "    <tr>\n",
       "      <th>5</th>\n",
       "      <td>6</td>\n",
       "      <td>55</td>\n",
       "      <td>Female</td>\n",
       "      <td>54458.83</td>\n",
       "      <td>35</td>\n",
       "      <td>East</td>\n",
       "      <td>Returning</td>\n",
       "      <td>3</td>\n",
       "      <td>33270.24</td>\n",
       "      <td>772</td>\n",
       "      <td>No</td>\n",
       "      <td>6854</td>\n",
       "    </tr>\n",
       "    <tr>\n",
       "      <th>6</th>\n",
       "      <td>7</td>\n",
       "      <td>69</td>\n",
       "      <td>Female</td>\n",
       "      <td>60843.35</td>\n",
       "      <td>34</td>\n",
       "      <td>South</td>\n",
       "      <td>Returning</td>\n",
       "      <td>1</td>\n",
       "      <td>31211.60</td>\n",
       "      <td>439</td>\n",
       "      <td>No</td>\n",
       "      <td>9302</td>\n",
       "    </tr>\n",
       "    <tr>\n",
       "      <th>7</th>\n",
       "      <td>8</td>\n",
       "      <td>51</td>\n",
       "      <td>Male</td>\n",
       "      <td>41603.15</td>\n",
       "      <td>84</td>\n",
       "      <td>East</td>\n",
       "      <td>VIP</td>\n",
       "      <td>4</td>\n",
       "      <td>8040.37</td>\n",
       "      <td>428</td>\n",
       "      <td>Yes</td>\n",
       "      <td>9826</td>\n",
       "    </tr>\n",
       "    <tr>\n",
       "      <th>8</th>\n",
       "      <td>9</td>\n",
       "      <td>31</td>\n",
       "      <td>Male</td>\n",
       "      <td>67645.38</td>\n",
       "      <td>15</td>\n",
       "      <td>North</td>\n",
       "      <td>VIP</td>\n",
       "      <td>1</td>\n",
       "      <td>26293.46</td>\n",
       "      <td>670</td>\n",
       "      <td>Yes</td>\n",
       "      <td>6429</td>\n",
       "    </tr>\n",
       "    <tr>\n",
       "      <th>9</th>\n",
       "      <td>10</td>\n",
       "      <td>53</td>\n",
       "      <td>Female</td>\n",
       "      <td>43099.04</td>\n",
       "      <td>7</td>\n",
       "      <td>South</td>\n",
       "      <td>Returning</td>\n",
       "      <td>2</td>\n",
       "      <td>21223.98</td>\n",
       "      <td>622</td>\n",
       "      <td>Yes</td>\n",
       "      <td>2430</td>\n",
       "    </tr>\n",
       "  </tbody>\n",
       "</table>\n",
       "</div>"
      ],
      "text/plain": [
       "   ID  Age  Gender    Income  Spend_Score Region Customer_Type  \\\n",
       "5   6   55  Female  54458.83           35   East     Returning   \n",
       "6   7   69  Female  60843.35           34  South     Returning   \n",
       "7   8   51    Male  41603.15           84   East           VIP   \n",
       "8   9   31    Male  67645.38           15  North           VIP   \n",
       "9  10   53  Female  43099.04            7  South     Returning   \n",
       "\n",
       "   Purchase_Frequency   Savings  Credit_Score Online_Shopping  Loyalty_Points  \n",
       "5                   3  33270.24           772              No            6854  \n",
       "6                   1  31211.60           439              No            9302  \n",
       "7                   4   8040.37           428             Yes            9826  \n",
       "8                   1  26293.46           670             Yes            6429  \n",
       "9                   2  21223.98           622             Yes            2430  "
      ]
     },
     "execution_count": 30,
     "metadata": {},
     "output_type": "execute_result"
    }
   ],
   "source": [
    "bank_df.iloc[5:10,]         # All the columns and 5 to 9 index rows"
   ]
  },
  {
   "cell_type": "code",
   "execution_count": 32,
   "id": "3fba70bc-7bd6-4e65-b525-05ea6899bcdf",
   "metadata": {},
   "outputs": [
    {
     "data": {
      "text/html": [
       "<div>\n",
       "<style scoped>\n",
       "    .dataframe tbody tr th:only-of-type {\n",
       "        vertical-align: middle;\n",
       "    }\n",
       "\n",
       "    .dataframe tbody tr th {\n",
       "        vertical-align: top;\n",
       "    }\n",
       "\n",
       "    .dataframe thead th {\n",
       "        text-align: right;\n",
       "    }\n",
       "</style>\n",
       "<table border=\"1\" class=\"dataframe\">\n",
       "  <thead>\n",
       "    <tr style=\"text-align: right;\">\n",
       "      <th></th>\n",
       "      <th>ID</th>\n",
       "      <th>Age</th>\n",
       "    </tr>\n",
       "  </thead>\n",
       "  <tbody>\n",
       "    <tr>\n",
       "      <th>0</th>\n",
       "      <td>1</td>\n",
       "      <td>56</td>\n",
       "    </tr>\n",
       "    <tr>\n",
       "      <th>1</th>\n",
       "      <td>2</td>\n",
       "      <td>49</td>\n",
       "    </tr>\n",
       "    <tr>\n",
       "      <th>2</th>\n",
       "      <td>3</td>\n",
       "      <td>50</td>\n",
       "    </tr>\n",
       "    <tr>\n",
       "      <th>3</th>\n",
       "      <td>4</td>\n",
       "      <td>33</td>\n",
       "    </tr>\n",
       "    <tr>\n",
       "      <th>4</th>\n",
       "      <td>5</td>\n",
       "      <td>29</td>\n",
       "    </tr>\n",
       "    <tr>\n",
       "      <th>...</th>\n",
       "      <td>...</td>\n",
       "      <td>...</td>\n",
       "    </tr>\n",
       "    <tr>\n",
       "      <th>24995</th>\n",
       "      <td>24996</td>\n",
       "      <td>42</td>\n",
       "    </tr>\n",
       "    <tr>\n",
       "      <th>24996</th>\n",
       "      <td>24997</td>\n",
       "      <td>45</td>\n",
       "    </tr>\n",
       "    <tr>\n",
       "      <th>24997</th>\n",
       "      <td>24998</td>\n",
       "      <td>60</td>\n",
       "    </tr>\n",
       "    <tr>\n",
       "      <th>24998</th>\n",
       "      <td>24999</td>\n",
       "      <td>30</td>\n",
       "    </tr>\n",
       "    <tr>\n",
       "      <th>24999</th>\n",
       "      <td>25000</td>\n",
       "      <td>64</td>\n",
       "    </tr>\n",
       "  </tbody>\n",
       "</table>\n",
       "<p>25000 rows × 2 columns</p>\n",
       "</div>"
      ],
      "text/plain": [
       "          ID  Age\n",
       "0          1   56\n",
       "1          2   49\n",
       "2          3   50\n",
       "3          4   33\n",
       "4          5   29\n",
       "...      ...  ...\n",
       "24995  24996   42\n",
       "24996  24997   45\n",
       "24997  24998   60\n",
       "24998  24999   30\n",
       "24999  25000   64\n",
       "\n",
       "[25000 rows x 2 columns]"
      ]
     },
     "execution_count": 32,
     "metadata": {},
     "output_type": "execute_result"
    }
   ],
   "source": [
    "bank_df.iloc[:,:2]       # All the rows only 0 and 1 columns"
   ]
  },
  {
   "cell_type": "code",
   "execution_count": 34,
   "id": "ed8c35b1-8b81-4904-b931-16744a6757a2",
   "metadata": {},
   "outputs": [
    {
     "data": {
      "text/html": [
       "<div>\n",
       "<style scoped>\n",
       "    .dataframe tbody tr th:only-of-type {\n",
       "        vertical-align: middle;\n",
       "    }\n",
       "\n",
       "    .dataframe tbody tr th {\n",
       "        vertical-align: top;\n",
       "    }\n",
       "\n",
       "    .dataframe thead th {\n",
       "        text-align: right;\n",
       "    }\n",
       "</style>\n",
       "<table border=\"1\" class=\"dataframe\">\n",
       "  <thead>\n",
       "    <tr style=\"text-align: right;\">\n",
       "      <th></th>\n",
       "      <th>Gender</th>\n",
       "      <th>Purchase_Frequency</th>\n",
       "    </tr>\n",
       "  </thead>\n",
       "  <tbody>\n",
       "    <tr>\n",
       "      <th>100</th>\n",
       "      <td>Female</td>\n",
       "      <td>6</td>\n",
       "    </tr>\n",
       "    <tr>\n",
       "      <th>200</th>\n",
       "      <td>Male</td>\n",
       "      <td>7</td>\n",
       "    </tr>\n",
       "    <tr>\n",
       "      <th>300</th>\n",
       "      <td>Female</td>\n",
       "      <td>3</td>\n",
       "    </tr>\n",
       "  </tbody>\n",
       "</table>\n",
       "</div>"
      ],
      "text/plain": [
       "     Gender  Purchase_Frequency\n",
       "100  Female                   6\n",
       "200    Male                   7\n",
       "300  Female                   3"
      ]
     },
     "execution_count": 34,
     "metadata": {},
     "output_type": "execute_result"
    }
   ],
   "source": [
    "rows=[100,200,300]\n",
    "cols=[2,7]\n",
    "bank_df.iloc[rows,cols]"
   ]
  },
  {
   "cell_type": "code",
   "execution_count": 42,
   "id": "2c4675ec-7be4-4b44-b0b2-25fd019781bd",
   "metadata": {},
   "outputs": [
    {
     "data": {
      "text/html": [
       "<div>\n",
       "<style scoped>\n",
       "    .dataframe tbody tr th:only-of-type {\n",
       "        vertical-align: middle;\n",
       "    }\n",
       "\n",
       "    .dataframe tbody tr th {\n",
       "        vertical-align: top;\n",
       "    }\n",
       "\n",
       "    .dataframe thead th {\n",
       "        text-align: right;\n",
       "    }\n",
       "</style>\n",
       "<table border=\"1\" class=\"dataframe\">\n",
       "  <thead>\n",
       "    <tr style=\"text-align: right;\">\n",
       "      <th></th>\n",
       "      <th>Gender</th>\n",
       "      <th>Purchase_Frequency</th>\n",
       "    </tr>\n",
       "  </thead>\n",
       "  <tbody>\n",
       "    <tr>\n",
       "      <th>100</th>\n",
       "      <td>Female</td>\n",
       "      <td>6</td>\n",
       "    </tr>\n",
       "    <tr>\n",
       "      <th>200</th>\n",
       "      <td>Male</td>\n",
       "      <td>7</td>\n",
       "    </tr>\n",
       "    <tr>\n",
       "      <th>300</th>\n",
       "      <td>Female</td>\n",
       "      <td>3</td>\n",
       "    </tr>\n",
       "  </tbody>\n",
       "</table>\n",
       "</div>"
      ],
      "text/plain": [
       "     Gender  Purchase_Frequency\n",
       "100  Female                   6\n",
       "200    Male                   7\n",
       "300  Female                   3"
      ]
     },
     "execution_count": 42,
     "metadata": {},
     "output_type": "execute_result"
    }
   ],
   "source": [
    "rows=[100,200,300]\n",
    "cols=['Gender','Purchase_Frequency']\n",
    "bank_df.loc[rows,cols]"
   ]
  },
  {
   "cell_type": "markdown",
   "id": "24bb0189-e052-4236-a3ee-81d2cae2c778",
   "metadata": {},
   "source": [
    "**Note**\n",
    "\n",
    "- iloc takes only numerical entry, we can not ptovide column names directly\n",
    "- loc takes only column names"
   ]
  }
 ],
 "metadata": {
  "kernelspec": {
   "display_name": "Python 3",
   "language": "python",
   "name": "python3"
  },
  "language_info": {
   "codemirror_mode": {
    "name": "ipython",
    "version": 3
   },
   "file_extension": ".py",
   "mimetype": "text/x-python",
   "name": "python",
   "nbconvert_exporter": "python",
   "pygments_lexer": "ipython3",
   "version": "3.13.2"
  }
 },
 "nbformat": 4,
 "nbformat_minor": 5
}
