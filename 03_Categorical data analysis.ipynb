{
 "cells": [
  {
   "cell_type": "code",
   "execution_count": 1,
   "id": "a02feb18-cecc-4aa5-9b58-e46503094540",
   "metadata": {},
   "outputs": [
    {
     "data": {
      "text/html": [
       "<div>\n",
       "<style scoped>\n",
       "    .dataframe tbody tr th:only-of-type {\n",
       "        vertical-align: middle;\n",
       "    }\n",
       "\n",
       "    .dataframe tbody tr th {\n",
       "        vertical-align: top;\n",
       "    }\n",
       "\n",
       "    .dataframe thead th {\n",
       "        text-align: right;\n",
       "    }\n",
       "</style>\n",
       "<table border=\"1\" class=\"dataframe\">\n",
       "  <thead>\n",
       "    <tr style=\"text-align: right;\">\n",
       "      <th></th>\n",
       "      <th>ID</th>\n",
       "      <th>Age</th>\n",
       "      <th>Gender</th>\n",
       "      <th>Income</th>\n",
       "      <th>Spend_Score</th>\n",
       "      <th>Region</th>\n",
       "      <th>Customer_Type</th>\n",
       "      <th>Purchase_Frequency</th>\n",
       "      <th>Savings</th>\n",
       "      <th>Credit_Score</th>\n",
       "      <th>Online_Shopping</th>\n",
       "      <th>Loyalty_Points</th>\n",
       "    </tr>\n",
       "  </thead>\n",
       "  <tbody>\n",
       "    <tr>\n",
       "      <th>0</th>\n",
       "      <td>1</td>\n",
       "      <td>56</td>\n",
       "      <td>Male</td>\n",
       "      <td>49770.79</td>\n",
       "      <td>27</td>\n",
       "      <td>East</td>\n",
       "      <td>New</td>\n",
       "      <td>2</td>\n",
       "      <td>20697.08</td>\n",
       "      <td>620</td>\n",
       "      <td>No</td>\n",
       "      <td>1400</td>\n",
       "    </tr>\n",
       "    <tr>\n",
       "      <th>1</th>\n",
       "      <td>2</td>\n",
       "      <td>49</td>\n",
       "      <td>Female</td>\n",
       "      <td>57777.86</td>\n",
       "      <td>35</td>\n",
       "      <td>South</td>\n",
       "      <td>VIP</td>\n",
       "      <td>2</td>\n",
       "      <td>24308.49</td>\n",
       "      <td>822</td>\n",
       "      <td>No</td>\n",
       "      <td>3624</td>\n",
       "    </tr>\n",
       "    <tr>\n",
       "      <th>2</th>\n",
       "      <td>3</td>\n",
       "      <td>50</td>\n",
       "      <td>Female</td>\n",
       "      <td>57966.19</td>\n",
       "      <td>82</td>\n",
       "      <td>South</td>\n",
       "      <td>VIP</td>\n",
       "      <td>2</td>\n",
       "      <td>29561.40</td>\n",
       "      <td>652</td>\n",
       "      <td>Yes</td>\n",
       "      <td>9523</td>\n",
       "    </tr>\n",
       "    <tr>\n",
       "      <th>3</th>\n",
       "      <td>4</td>\n",
       "      <td>33</td>\n",
       "      <td>Female</td>\n",
       "      <td>59555.88</td>\n",
       "      <td>30</td>\n",
       "      <td>North</td>\n",
       "      <td>VIP</td>\n",
       "      <td>2</td>\n",
       "      <td>22868.76</td>\n",
       "      <td>503</td>\n",
       "      <td>No</td>\n",
       "      <td>244</td>\n",
       "    </tr>\n",
       "    <tr>\n",
       "      <th>4</th>\n",
       "      <td>5</td>\n",
       "      <td>29</td>\n",
       "      <td>Male</td>\n",
       "      <td>60871.07</td>\n",
       "      <td>14</td>\n",
       "      <td>East</td>\n",
       "      <td>New</td>\n",
       "      <td>3</td>\n",
       "      <td>31972.05</td>\n",
       "      <td>454</td>\n",
       "      <td>Yes</td>\n",
       "      <td>375</td>\n",
       "    </tr>\n",
       "    <tr>\n",
       "      <th>...</th>\n",
       "      <td>...</td>\n",
       "      <td>...</td>\n",
       "      <td>...</td>\n",
       "      <td>...</td>\n",
       "      <td>...</td>\n",
       "      <td>...</td>\n",
       "      <td>...</td>\n",
       "      <td>...</td>\n",
       "      <td>...</td>\n",
       "      <td>...</td>\n",
       "      <td>...</td>\n",
       "      <td>...</td>\n",
       "    </tr>\n",
       "    <tr>\n",
       "      <th>24995</th>\n",
       "      <td>24996</td>\n",
       "      <td>42</td>\n",
       "      <td>Male</td>\n",
       "      <td>47428.10</td>\n",
       "      <td>95</td>\n",
       "      <td>East</td>\n",
       "      <td>Returning</td>\n",
       "      <td>4</td>\n",
       "      <td>19250.61</td>\n",
       "      <td>429</td>\n",
       "      <td>No</td>\n",
       "      <td>3504</td>\n",
       "    </tr>\n",
       "    <tr>\n",
       "      <th>24996</th>\n",
       "      <td>24997</td>\n",
       "      <td>45</td>\n",
       "      <td>Male</td>\n",
       "      <td>73364.48</td>\n",
       "      <td>46</td>\n",
       "      <td>East</td>\n",
       "      <td>Returning</td>\n",
       "      <td>2</td>\n",
       "      <td>26113.03</td>\n",
       "      <td>555</td>\n",
       "      <td>No</td>\n",
       "      <td>148</td>\n",
       "    </tr>\n",
       "    <tr>\n",
       "      <th>24997</th>\n",
       "      <td>24998</td>\n",
       "      <td>60</td>\n",
       "      <td>Male</td>\n",
       "      <td>48966.95</td>\n",
       "      <td>41</td>\n",
       "      <td>South</td>\n",
       "      <td>VIP</td>\n",
       "      <td>1</td>\n",
       "      <td>5739.21</td>\n",
       "      <td>497</td>\n",
       "      <td>Yes</td>\n",
       "      <td>5832</td>\n",
       "    </tr>\n",
       "    <tr>\n",
       "      <th>24998</th>\n",
       "      <td>24999</td>\n",
       "      <td>30</td>\n",
       "      <td>Female</td>\n",
       "      <td>49105.76</td>\n",
       "      <td>85</td>\n",
       "      <td>South</td>\n",
       "      <td>Returning</td>\n",
       "      <td>4</td>\n",
       "      <td>9281.24</td>\n",
       "      <td>729</td>\n",
       "      <td>No</td>\n",
       "      <td>4737</td>\n",
       "    </tr>\n",
       "    <tr>\n",
       "      <th>24999</th>\n",
       "      <td>25000</td>\n",
       "      <td>64</td>\n",
       "      <td>Female</td>\n",
       "      <td>30118.22</td>\n",
       "      <td>52</td>\n",
       "      <td>North</td>\n",
       "      <td>Returning</td>\n",
       "      <td>1</td>\n",
       "      <td>22089.87</td>\n",
       "      <td>476</td>\n",
       "      <td>Yes</td>\n",
       "      <td>4456</td>\n",
       "    </tr>\n",
       "  </tbody>\n",
       "</table>\n",
       "<p>25000 rows × 12 columns</p>\n",
       "</div>"
      ],
      "text/plain": [
       "          ID  Age  Gender    Income  Spend_Score Region Customer_Type  \\\n",
       "0          1   56    Male  49770.79           27   East           New   \n",
       "1          2   49  Female  57777.86           35  South           VIP   \n",
       "2          3   50  Female  57966.19           82  South           VIP   \n",
       "3          4   33  Female  59555.88           30  North           VIP   \n",
       "4          5   29    Male  60871.07           14   East           New   \n",
       "...      ...  ...     ...       ...          ...    ...           ...   \n",
       "24995  24996   42    Male  47428.10           95   East     Returning   \n",
       "24996  24997   45    Male  73364.48           46   East     Returning   \n",
       "24997  24998   60    Male  48966.95           41  South           VIP   \n",
       "24998  24999   30  Female  49105.76           85  South     Returning   \n",
       "24999  25000   64  Female  30118.22           52  North     Returning   \n",
       "\n",
       "       Purchase_Frequency   Savings  Credit_Score Online_Shopping  \\\n",
       "0                       2  20697.08           620              No   \n",
       "1                       2  24308.49           822              No   \n",
       "2                       2  29561.40           652             Yes   \n",
       "3                       2  22868.76           503              No   \n",
       "4                       3  31972.05           454             Yes   \n",
       "...                   ...       ...           ...             ...   \n",
       "24995                   4  19250.61           429              No   \n",
       "24996                   2  26113.03           555              No   \n",
       "24997                   1   5739.21           497             Yes   \n",
       "24998                   4   9281.24           729              No   \n",
       "24999                   1  22089.87           476             Yes   \n",
       "\n",
       "       Loyalty_Points  \n",
       "0                1400  \n",
       "1                3624  \n",
       "2                9523  \n",
       "3                 244  \n",
       "4                 375  \n",
       "...               ...  \n",
       "24995            3504  \n",
       "24996             148  \n",
       "24997            5832  \n",
       "24998            4737  \n",
       "24999            4456  \n",
       "\n",
       "[25000 rows x 12 columns]"
      ]
     },
     "execution_count": 1,
     "metadata": {},
     "output_type": "execute_result"
    }
   ],
   "source": [
    "import pandas as pd\n",
    "import numpy as np\n",
    "import matplotlib.pyplot as plt\n",
    "import seaborn as sns\n",
    "\n",
    "file_loc='EDA_large_data.csv'\n",
    "visa_df=pd.read_csv(file_loc)\n",
    "visa_df"
   ]
  },
  {
   "cell_type": "code",
   "execution_count": 2,
   "id": "8869efbf-6785-434e-8c68-25800ee329db",
   "metadata": {},
   "outputs": [
    {
     "data": {
      "text/plain": [
       "ID                      int64\n",
       "Age                     int64\n",
       "Gender                 object\n",
       "Income                float64\n",
       "Spend_Score             int64\n",
       "Region                 object\n",
       "Customer_Type          object\n",
       "Purchase_Frequency      int64\n",
       "Savings               float64\n",
       "Credit_Score            int64\n",
       "Online_Shopping        object\n",
       "Loyalty_Points          int64\n",
       "dtype: object"
      ]
     },
     "execution_count": 2,
     "metadata": {},
     "output_type": "execute_result"
    }
   ],
   "source": [
    "visa_df.dtypes"
   ]
  },
  {
   "cell_type": "code",
   "execution_count": 3,
   "id": "4e99bf86-4a79-4fc7-b262-1da5680cf2f5",
   "metadata": {},
   "outputs": [
    {
     "data": {
      "text/plain": [
       "0         East\n",
       "1        South\n",
       "2        South\n",
       "3        North\n",
       "4         East\n",
       "         ...  \n",
       "24995     East\n",
       "24996     East\n",
       "24997    South\n",
       "24998    South\n",
       "24999    North\n",
       "Name: Region, Length: 25000, dtype: object"
      ]
     },
     "execution_count": 3,
     "metadata": {},
     "output_type": "execute_result"
    }
   ],
   "source": [
    "visa_df['Region']"
   ]
  },
  {
   "cell_type": "code",
   "execution_count": 4,
   "id": "519d992f-b042-4a0e-b3fc-ef2358145a58",
   "metadata": {},
   "outputs": [
    {
     "data": {
      "text/plain": [
       "pandas.core.series.Series"
      ]
     },
     "execution_count": 4,
     "metadata": {},
     "output_type": "execute_result"
    }
   ],
   "source": [
    "type(visa_df['Region'])"
   ]
  },
  {
   "cell_type": "code",
   "execution_count": 5,
   "id": "57856991-ead4-438f-855c-f8886eddcd5b",
   "metadata": {},
   "outputs": [
    {
     "data": {
      "text/html": [
       "<div>\n",
       "<style scoped>\n",
       "    .dataframe tbody tr th:only-of-type {\n",
       "        vertical-align: middle;\n",
       "    }\n",
       "\n",
       "    .dataframe tbody tr th {\n",
       "        vertical-align: top;\n",
       "    }\n",
       "\n",
       "    .dataframe thead th {\n",
       "        text-align: right;\n",
       "    }\n",
       "</style>\n",
       "<table border=\"1\" class=\"dataframe\">\n",
       "  <thead>\n",
       "    <tr style=\"text-align: right;\">\n",
       "      <th></th>\n",
       "      <th>Region</th>\n",
       "    </tr>\n",
       "  </thead>\n",
       "  <tbody>\n",
       "    <tr>\n",
       "      <th>0</th>\n",
       "      <td>East</td>\n",
       "    </tr>\n",
       "    <tr>\n",
       "      <th>1</th>\n",
       "      <td>South</td>\n",
       "    </tr>\n",
       "    <tr>\n",
       "      <th>2</th>\n",
       "      <td>South</td>\n",
       "    </tr>\n",
       "    <tr>\n",
       "      <th>3</th>\n",
       "      <td>North</td>\n",
       "    </tr>\n",
       "    <tr>\n",
       "      <th>4</th>\n",
       "      <td>East</td>\n",
       "    </tr>\n",
       "    <tr>\n",
       "      <th>...</th>\n",
       "      <td>...</td>\n",
       "    </tr>\n",
       "    <tr>\n",
       "      <th>24995</th>\n",
       "      <td>East</td>\n",
       "    </tr>\n",
       "    <tr>\n",
       "      <th>24996</th>\n",
       "      <td>East</td>\n",
       "    </tr>\n",
       "    <tr>\n",
       "      <th>24997</th>\n",
       "      <td>South</td>\n",
       "    </tr>\n",
       "    <tr>\n",
       "      <th>24998</th>\n",
       "      <td>South</td>\n",
       "    </tr>\n",
       "    <tr>\n",
       "      <th>24999</th>\n",
       "      <td>North</td>\n",
       "    </tr>\n",
       "  </tbody>\n",
       "</table>\n",
       "<p>25000 rows × 1 columns</p>\n",
       "</div>"
      ],
      "text/plain": [
       "      Region\n",
       "0       East\n",
       "1      South\n",
       "2      South\n",
       "3      North\n",
       "4       East\n",
       "...      ...\n",
       "24995   East\n",
       "24996   East\n",
       "24997  South\n",
       "24998  South\n",
       "24999  North\n",
       "\n",
       "[25000 rows x 1 columns]"
      ]
     },
     "execution_count": 5,
     "metadata": {},
     "output_type": "execute_result"
    }
   ],
   "source": [
    "col=['Region']\n",
    "visa_df[col]"
   ]
  },
  {
   "cell_type": "code",
   "execution_count": 6,
   "id": "6d223d6e-0c0e-4e83-aa4d-d6e876ffbc59",
   "metadata": {},
   "outputs": [
    {
     "data": {
      "text/html": [
       "<div>\n",
       "<style scoped>\n",
       "    .dataframe tbody tr th:only-of-type {\n",
       "        vertical-align: middle;\n",
       "    }\n",
       "\n",
       "    .dataframe tbody tr th {\n",
       "        vertical-align: top;\n",
       "    }\n",
       "\n",
       "    .dataframe thead th {\n",
       "        text-align: right;\n",
       "    }\n",
       "</style>\n",
       "<table border=\"1\" class=\"dataframe\">\n",
       "  <thead>\n",
       "    <tr style=\"text-align: right;\">\n",
       "      <th></th>\n",
       "      <th>Region</th>\n",
       "    </tr>\n",
       "  </thead>\n",
       "  <tbody>\n",
       "    <tr>\n",
       "      <th>0</th>\n",
       "      <td>East</td>\n",
       "    </tr>\n",
       "    <tr>\n",
       "      <th>1</th>\n",
       "      <td>South</td>\n",
       "    </tr>\n",
       "    <tr>\n",
       "      <th>2</th>\n",
       "      <td>South</td>\n",
       "    </tr>\n",
       "    <tr>\n",
       "      <th>3</th>\n",
       "      <td>North</td>\n",
       "    </tr>\n",
       "    <tr>\n",
       "      <th>4</th>\n",
       "      <td>East</td>\n",
       "    </tr>\n",
       "    <tr>\n",
       "      <th>...</th>\n",
       "      <td>...</td>\n",
       "    </tr>\n",
       "    <tr>\n",
       "      <th>24995</th>\n",
       "      <td>East</td>\n",
       "    </tr>\n",
       "    <tr>\n",
       "      <th>24996</th>\n",
       "      <td>East</td>\n",
       "    </tr>\n",
       "    <tr>\n",
       "      <th>24997</th>\n",
       "      <td>South</td>\n",
       "    </tr>\n",
       "    <tr>\n",
       "      <th>24998</th>\n",
       "      <td>South</td>\n",
       "    </tr>\n",
       "    <tr>\n",
       "      <th>24999</th>\n",
       "      <td>North</td>\n",
       "    </tr>\n",
       "  </tbody>\n",
       "</table>\n",
       "<p>25000 rows × 1 columns</p>\n",
       "</div>"
      ],
      "text/plain": [
       "      Region\n",
       "0       East\n",
       "1      South\n",
       "2      South\n",
       "3      North\n",
       "4       East\n",
       "...      ...\n",
       "24995   East\n",
       "24996   East\n",
       "24997  South\n",
       "24998  South\n",
       "24999  North\n",
       "\n",
       "[25000 rows x 1 columns]"
      ]
     },
     "execution_count": 6,
     "metadata": {},
     "output_type": "execute_result"
    }
   ],
   "source": [
    "visa_df['Region']           # Series\n",
    "visa_df[['Region']]         # DataFrame"
   ]
  },
  {
   "cell_type": "code",
   "execution_count": 7,
   "id": "dcce8573-e90d-4ce0-ba95-bb9e9b024925",
   "metadata": {},
   "outputs": [
    {
     "data": {
      "text/plain": [
       "array(['East', 'South', 'South', ..., 'South', 'South', 'North'],\n",
       "      dtype=object)"
      ]
     },
     "execution_count": 7,
     "metadata": {},
     "output_type": "execute_result"
    }
   ],
   "source": [
    "visa_df['Region'].values"
   ]
  },
  {
   "cell_type": "code",
   "execution_count": 8,
   "id": "c0070d61-2527-4f4f-b897-f3b574ae0a8c",
   "metadata": {},
   "outputs": [
    {
     "data": {
      "text/plain": [
       "array([['East'],\n",
       "       ['South'],\n",
       "       ['South'],\n",
       "       ...,\n",
       "       ['South'],\n",
       "       ['South'],\n",
       "       ['North']], dtype=object)"
      ]
     },
     "execution_count": 8,
     "metadata": {},
     "output_type": "execute_result"
    }
   ],
   "source": [
    "visa_df[['Region']].values      # Dont use this"
   ]
  },
  {
   "cell_type": "code",
   "execution_count": 9,
   "id": "e1d5831c-31d0-4d59-a5a3-04d5e2d97a77",
   "metadata": {},
   "outputs": [
    {
     "data": {
      "text/plain": [
       "[1, 2, 3, 4, 10, 20, 30, 40]"
      ]
     },
     "execution_count": 9,
     "metadata": {},
     "output_type": "execute_result"
    }
   ],
   "source": [
    "l1=[1,2,3,4]\n",
    "l2=[10,20,30,40]\n",
    "l1+l2"
   ]
  },
  {
   "cell_type": "code",
   "execution_count": 10,
   "id": "9a63b81f-41f2-4990-9cfc-27b3c531c9ed",
   "metadata": {},
   "outputs": [
    {
     "data": {
      "text/plain": [
       "array([11, 22, 33, 44])"
      ]
     },
     "execution_count": 10,
     "metadata": {},
     "output_type": "execute_result"
    }
   ],
   "source": [
    "a1=np.array(l1)\n",
    "a2=np.array(l2)\n",
    "a1+a2"
   ]
  },
  {
   "cell_type": "code",
   "execution_count": 11,
   "id": "0a75e2c4-64e8-4db5-ba82-3b83bf27f48d",
   "metadata": {},
   "outputs": [
    {
     "data": {
      "text/html": [
       "<div>\n",
       "<style scoped>\n",
       "    .dataframe tbody tr th:only-of-type {\n",
       "        vertical-align: middle;\n",
       "    }\n",
       "\n",
       "    .dataframe tbody tr th {\n",
       "        vertical-align: top;\n",
       "    }\n",
       "\n",
       "    .dataframe thead th {\n",
       "        text-align: right;\n",
       "    }\n",
       "</style>\n",
       "<table border=\"1\" class=\"dataframe\">\n",
       "  <thead>\n",
       "    <tr style=\"text-align: right;\">\n",
       "      <th></th>\n",
       "      <th>Region</th>\n",
       "      <th>Spend_Score</th>\n",
       "    </tr>\n",
       "  </thead>\n",
       "  <tbody>\n",
       "    <tr>\n",
       "      <th>0</th>\n",
       "      <td>East</td>\n",
       "      <td>27</td>\n",
       "    </tr>\n",
       "    <tr>\n",
       "      <th>1</th>\n",
       "      <td>South</td>\n",
       "      <td>35</td>\n",
       "    </tr>\n",
       "    <tr>\n",
       "      <th>2</th>\n",
       "      <td>South</td>\n",
       "      <td>82</td>\n",
       "    </tr>\n",
       "    <tr>\n",
       "      <th>3</th>\n",
       "      <td>North</td>\n",
       "      <td>30</td>\n",
       "    </tr>\n",
       "    <tr>\n",
       "      <th>4</th>\n",
       "      <td>East</td>\n",
       "      <td>14</td>\n",
       "    </tr>\n",
       "  </tbody>\n",
       "</table>\n",
       "</div>"
      ],
      "text/plain": [
       "  Region  Spend_Score\n",
       "0   East           27\n",
       "1  South           35\n",
       "2  South           82\n",
       "3  North           30\n",
       "4   East           14"
      ]
     },
     "execution_count": 11,
     "metadata": {},
     "output_type": "execute_result"
    }
   ],
   "source": [
    "# Read multiple columns\n",
    "# Region\n",
    "# Spend_Score\n",
    "cols=['Region','Spend_Score']\n",
    "visa_df[cols].head()"
   ]
  },
  {
   "cell_type": "markdown",
   "id": "91a0e71d-bdef-44c7-a3a2-0297c9ce1d8b",
   "metadata": {},
   "source": [
    "$unique$"
   ]
  },
  {
   "cell_type": "code",
   "execution_count": 13,
   "id": "e200e999-0d72-4d43-8d89-d2f1ec26b956",
   "metadata": {},
   "outputs": [
    {
     "data": {
      "text/plain": [
       "array(['East', 'South', 'North', 'West'], dtype=object)"
      ]
     },
     "execution_count": 13,
     "metadata": {},
     "output_type": "execute_result"
    }
   ],
   "source": [
    "visa_df['Region'].unique()\n",
    "# There are almost 25k entries in Region column\n",
    "# But some values repeated as 25k"
   ]
  },
  {
   "cell_type": "markdown",
   "id": "ec2634cf-5529-46de-b961-98f5fec71323",
   "metadata": {},
   "source": [
    "$nunique$"
   ]
  },
  {
   "cell_type": "code",
   "execution_count": 15,
   "id": "5709a8f6-d0b6-4739-a65a-ce257ccbe2f3",
   "metadata": {},
   "outputs": [
    {
     "data": {
      "text/plain": [
       "4"
      ]
     },
     "execution_count": 15,
     "metadata": {},
     "output_type": "execute_result"
    }
   ],
   "source": [
    "visa_df['Region'].nunique()"
   ]
  },
  {
   "cell_type": "code",
   "execution_count": 16,
   "id": "d42a01d1-45d1-4c0b-ab49-7bb9873cae02",
   "metadata": {},
   "outputs": [
    {
     "data": {
      "text/plain": [
       "4"
      ]
     },
     "execution_count": 16,
     "metadata": {},
     "output_type": "execute_result"
    }
   ],
   "source": [
    "len(visa_df['Region'].unique())        # Same result as nunique"
   ]
  },
  {
   "cell_type": "code",
   "execution_count": 17,
   "id": "41ff5213-2ba9-415c-9cdc-bfdf1804ba5a",
   "metadata": {},
   "outputs": [],
   "source": [
    "# How many North count is available out of 25k entries\n",
    "# How many South count is available out of 25k entries\n",
    "# How many East count is available out of 25k entries\n",
    "# How many West count is available out of 25k entries"
   ]
  },
  {
   "cell_type": "markdown",
   "id": "3f597cff-57f5-463c-9028-18222ae19715",
   "metadata": {},
   "source": [
    "$Value-Counts$"
   ]
  },
  {
   "cell_type": "code",
   "execution_count": 19,
   "id": "25079c94-3df4-4e5e-b71e-fb401a898585",
   "metadata": {},
   "outputs": [
    {
     "data": {
      "text/plain": [
       "Region\n",
       "East     6300\n",
       "West     6258\n",
       "North    6225\n",
       "South    6217\n",
       "Name: count, dtype: int64"
      ]
     },
     "execution_count": 19,
     "metadata": {},
     "output_type": "execute_result"
    }
   ],
   "source": [
    "visa_df['Region'].value_counts()"
   ]
  },
  {
   "cell_type": "code",
   "execution_count": 20,
   "id": "0c076deb-16ce-4d06-9fbc-7cab6b132f73",
   "metadata": {},
   "outputs": [
    {
     "data": {
      "text/plain": [
       "Region\n",
       "East     0.25200\n",
       "West     0.25032\n",
       "North    0.24900\n",
       "South    0.24868\n",
       "Name: proportion, dtype: float64"
      ]
     },
     "execution_count": 20,
     "metadata": {},
     "output_type": "execute_result"
    }
   ],
   "source": [
    "visa_df['Region'].value_counts(normalize=True)"
   ]
  },
  {
   "cell_type": "code",
   "execution_count": 21,
   "id": "5a352ef5-0b59-4fa9-b77a-cb487efc722a",
   "metadata": {},
   "outputs": [
    {
     "data": {
      "text/plain": [
       "pandas.core.series.Series"
      ]
     },
     "execution_count": 21,
     "metadata": {},
     "output_type": "execute_result"
    }
   ],
   "source": [
    "type(visa_df['Region'].value_counts())"
   ]
  },
  {
   "cell_type": "code",
   "execution_count": 22,
   "id": "3476c90f-3636-4ce7-8b97-b0f8c915b0fb",
   "metadata": {},
   "outputs": [
    {
     "data": {
      "text/html": [
       "<div>\n",
       "<style scoped>\n",
       "    .dataframe tbody tr th:only-of-type {\n",
       "        vertical-align: middle;\n",
       "    }\n",
       "\n",
       "    .dataframe tbody tr th {\n",
       "        vertical-align: top;\n",
       "    }\n",
       "\n",
       "    .dataframe thead th {\n",
       "        text-align: right;\n",
       "    }\n",
       "</style>\n",
       "<table border=\"1\" class=\"dataframe\">\n",
       "  <thead>\n",
       "    <tr style=\"text-align: right;\">\n",
       "      <th></th>\n",
       "      <th>Region</th>\n",
       "      <th>Count</th>\n",
       "    </tr>\n",
       "  </thead>\n",
       "  <tbody>\n",
       "    <tr>\n",
       "      <th>0</th>\n",
       "      <td>East</td>\n",
       "      <td>6300</td>\n",
       "    </tr>\n",
       "    <tr>\n",
       "      <th>1</th>\n",
       "      <td>West</td>\n",
       "      <td>6258</td>\n",
       "    </tr>\n",
       "    <tr>\n",
       "      <th>2</th>\n",
       "      <td>North</td>\n",
       "      <td>6225</td>\n",
       "    </tr>\n",
       "    <tr>\n",
       "      <th>3</th>\n",
       "      <td>South</td>\n",
       "      <td>6217</td>\n",
       "    </tr>\n",
       "  </tbody>\n",
       "</table>\n",
       "</div>"
      ],
      "text/plain": [
       "  Region  Count\n",
       "0   East   6300\n",
       "1   West   6258\n",
       "2  North   6225\n",
       "3  South   6217"
      ]
     },
     "execution_count": 22,
     "metadata": {},
     "output_type": "execute_result"
    }
   ],
   "source": [
    "df0=dict(visa_df['Region'].value_counts())\n",
    "l01=list(df0.keys())\n",
    "l02=list(df0.values())\n",
    "df001=pd.DataFrame(zip(l01,l02),columns=['Region','Count'])\n",
    "df001.to_csv('Region_df.csv',index=False)\n",
    "df001"
   ]
  },
  {
   "cell_type": "code",
   "execution_count": 23,
   "id": "820b9835-f3b9-4288-b75b-06e243468156",
   "metadata": {},
   "outputs": [
    {
     "data": {
      "text/html": [
       "<div>\n",
       "<style scoped>\n",
       "    .dataframe tbody tr th:only-of-type {\n",
       "        vertical-align: middle;\n",
       "    }\n",
       "\n",
       "    .dataframe tbody tr th {\n",
       "        vertical-align: top;\n",
       "    }\n",
       "\n",
       "    .dataframe thead th {\n",
       "        text-align: right;\n",
       "    }\n",
       "</style>\n",
       "<table border=\"1\" class=\"dataframe\">\n",
       "  <thead>\n",
       "    <tr style=\"text-align: right;\">\n",
       "      <th></th>\n",
       "      <th>East</th>\n",
       "      <th>West</th>\n",
       "      <th>North</th>\n",
       "      <th>South</th>\n",
       "    </tr>\n",
       "  </thead>\n",
       "  <tbody>\n",
       "    <tr>\n",
       "      <th>Count</th>\n",
       "      <td>6300</td>\n",
       "      <td>6258</td>\n",
       "      <td>6225</td>\n",
       "      <td>6217</td>\n",
       "    </tr>\n",
       "  </tbody>\n",
       "</table>\n",
       "</div>"
      ],
      "text/plain": [
       "       East  West  North  South\n",
       "Count  6300  6258   6225   6217"
      ]
     },
     "execution_count": 23,
     "metadata": {},
     "output_type": "execute_result"
    }
   ],
   "source": [
    "df0=dict(visa_df['Region'].value_counts())\n",
    "pd.DataFrame(df0,index=[\"Count\"])\n",
    "\n",
    "# ValueError: If using all scalar values, you must pass an index\n",
    "\n",
    "# In the dictionary if values in the form of list: then no need to provide index\n",
    "# In the dictionary if values are as single (Scalar): Then provide index"
   ]
  },
  {
   "cell_type": "markdown",
   "id": "8961eee6-57d3-4131-aab5-41ffdd8e6b6c",
   "metadata": {},
   "source": [
    "$Bar-Chart$"
   ]
  },
  {
   "cell_type": "code",
   "execution_count": 25,
   "id": "fedec4d7-6959-4ebc-8101-f1b405e83b7a",
   "metadata": {},
   "outputs": [
    {
     "data": {
      "image/png": "[encoded data removed]",
      "text/plain": [
       "<Figure size 1000x500 with 1 Axes>"
      ]
     },
     "metadata": {},
     "output_type": "display_data"
    }
   ],
   "source": [
    "# Bar chart requires one categorical column, one numerical column\n",
    "# Region df output consider as frequency table\n",
    "# In that we have one cat column: Region (X-axis)\n",
    "# Count is a numerical column: (Y-axis)\n",
    "\n",
    "plt.figure(figsize=(10,5))\n",
    "plt.bar('Region','Count',data=df001)\n",
    "plt.xlabel(\"Region\")\n",
    "plt.ylabel(\"Count\")\n",
    "plt.title(\"Bar Chart\")\n",
    "plt.savefig(\"Region_bar_chart.jpg\")\n",
    "plt.show()"
   ]
  },
  {
   "cell_type": "markdown",
   "id": "36028f3b-5cbd-44c7-bbe6-73cd23590f39",
   "metadata": {},
   "source": [
    "- We read Categorical Columns\n",
    "\n",
    "- Unique\n",
    "\n",
    "- nunique\n",
    "\n",
    "- Value Counts\n",
    "\n",
    "- From the value counts we created a dataframe (Frequency Table)\n",
    "\n",
    "- Bar Chart"
   ]
  },
  {
   "cell_type": "markdown",
   "id": "d141f937-67a9-40e9-8d46-19f6ece0a0f7",
   "metadata": {},
   "source": [
    "**Bar chart require two things**\n",
    "\n",
    "- Under Matplotlib\n",
    "    \n",
    "- X-axis (Categorical column)\n",
    "    \n",
    "- Y-axis (Numerical column)\n",
    "    \n",
    "\n",
    "**Count plot**\n",
    "\n",
    "- Under seaborn package\n",
    "    \n",
    "- It requires directly column name from original dataframe"
   ]
  },
  {
   "cell_type": "code",
   "execution_count": 71,
   "id": "0837c5ce-0d2b-4feb-b1f5-ea7d91c493e8",
   "metadata": {},
   "outputs": [
    {
     "data": {
      "image/png": "[encoded data removed]",
      "text/plain": [
       "<Figure size 640x480 with 1 Axes>"
      ]
     },
     "metadata": {},
     "output_type": "display_data"
    }
   ],
   "source": [
    "order_labels=['East','West','North','South']\n",
    "sns.countplot(data=visa_df,x='Region',order=order_labels)\n",
    "plt.title(\"Bar Chart\")\n",
    "plt.show()"
   ]
  },
  {
   "cell_type": "code",
   "execution_count": 61,
   "id": "f7ae9cc8-0cd1-4f3e-8c42-310097b47816",
   "metadata": {},
   "outputs": [
    {
     "data": {
      "text/plain": [
       "[6300, 6258, 6225, 6217]"
      ]
     },
     "execution_count": 61,
     "metadata": {},
     "output_type": "execute_result"
    }
   ],
   "source": [
    "visa_df[\"Region\"].value_counts().keys()\n",
    "visa_df[\"Region\"].value_counts().to_list()"
   ]
  },
  {
   "cell_type": "code",
   "execution_count": 75,
   "id": "de327111-88f6-470a-8c32-fc513c355d96",
   "metadata": {},
   "outputs": [
    {
     "data": {
      "image/png": "[encoded data removed]",
      "text/plain": [
       "<Figure size 640x480 with 1 Axes>"
      ]
     },
     "metadata": {},
     "output_type": "display_data"
    }
   ],
   "source": [
    "visa_df[\"Region\"].value_counts()\n",
    "# In the series\n",
    "# We have left side : keys\n",
    "# We have right side : values\n",
    "keys=visa_df[\"Region\"].value_counts().keys()             #=====  keys\n",
    "values=visa_df[\"Region\"].value_counts().to_list()          #=====  values  #not requied here\n",
    "sns.countplot(data=visa_df,x='Region',order=keys)\n",
    "plt.title(\"Bar Chart\")\n",
    "plt.show()"
   ]
  },
  {
   "cell_type": "code",
   "execution_count": 87,
   "id": "64041602-f56f-49c0-b3fe-57a95a61aa2f",
   "metadata": {},
   "outputs": [
    {
     "data": {
      "image/png": "[encoded data removed]",
      "text/plain": [
       "<Figure size 640x480 with 1 Axes>"
      ]
     },
     "metadata": {},
     "output_type": "display_data"
    }
   ],
   "source": [
    "values=visa_df['Region'].value_counts()\n",
    "ax=values.plot(kind='bar')\n",
    "ax.bar_label(ax.containers[0])\n",
    "plt.show()"
   ]
  },
  {
   "cell_type": "code",
   "execution_count": 93,
   "id": "c98bd1ee-ec21-47b3-8cda-043a95edb2f7",
   "metadata": {},
   "outputs": [
    {
     "data": {
      "image/png": "[encoded data removed]",
      "text/plain": [
       "<Figure size 1000x500 with 1 Axes>"
      ]
     },
     "metadata": {},
     "output_type": "display_data"
    },
    {
     "data": {
      "image/png": "[encoded data removed]",
      "text/plain": [
       "<Figure size 640x480 with 1 Axes>"
      ]
     },
     "metadata": {},
     "output_type": "display_data"
    },
    {
     "data": {
      "image/png": "[encoded data removed]",
      "text/plain": [
       "<Figure size 640x480 with 1 Axes>"
      ]
     },
     "metadata": {},
     "output_type": "display_data"
    }
   ],
   "source": [
    "# Method 1   (Matplotlib)\n",
    "\n",
    "plt.figure(figsize=(10,5))\n",
    "plt.bar('Region','Count',data=df001)\n",
    "plt.xlabel(\"Region\")\n",
    "plt.ylabel(\"Count\")\n",
    "plt.title(\"Bar Chart\")\n",
    "plt.savefig(\"Region_bar_chart.jpg\")\n",
    "plt.show()\n",
    "\n",
    "# Method 2   (Seaborn count plot)\n",
    "\n",
    "visa_df[\"Region\"].value_counts()\n",
    "keys=visa_df[\"Region\"].value_counts().keys()\n",
    "sns.countplot(data=visa_df,x='Region',order=keys)\n",
    "plt.title(\"Bar Chart\")\n",
    "plt.show()\n",
    "\n",
    "# Method 3   (Value counts plot)\n",
    "\n",
    "values=visa_df['Region'].value_counts()\n",
    "ax=values.plot(kind='bar')\n",
    "ax.bar_label(ax.containers[0])\n",
    "plt.show()"
   ]
  },
  {
   "cell_type": "markdown",
   "id": "f913e4cb-67b7-40d6-8d65-1eb6f7133c45",
   "metadata": {},
   "source": [
    "$Pie-Chart$"
   ]
  },
  {
   "cell_type": "code",
   "execution_count": 97,
   "id": "ef388d26-d06c-4f39-a270-169c7d91807b",
   "metadata": {},
   "outputs": [
    {
     "data": {
      "text/plain": [
       "Region\n",
       "East     0.25200\n",
       "West     0.25032\n",
       "North    0.24900\n",
       "South    0.24868\n",
       "Name: proportion, dtype: float64"
      ]
     },
     "execution_count": 97,
     "metadata": {},
     "output_type": "execute_result"
    }
   ],
   "source": [
    "values=visa_df['Region'].value_counts(normalize=True)\n",
    "values"
   ]
  },
  {
   "cell_type": "code",
   "execution_count": 113,
   "id": "c2d27d00-2968-41e8-8b4f-49a640237c27",
   "metadata": {},
   "outputs": [
    {
     "data": {
      "image/png": "[encoded data removed]",
      "text/plain": [
       "<Figure size 640x480 with 1 Axes>"
      ]
     },
     "metadata": {},
     "output_type": "display_data"
    }
   ],
   "source": [
    "# x = values\n",
    "# labels = keys\n",
    "keys=visa_df['Region'].value_counts().keys()\n",
    "values=visa_df['Region'].value_counts().to_list()\n",
    "plt.pie(x=values,\n",
    "        labels=keys,\n",
    "        autopct=\"%0.3f%%\",\n",
    "        explode=[0.1,0.1,0.1,0.1],\n",
    "       shadow=True,\n",
    "       startangle=180,\n",
    "       radius=2)\n",
    "plt.show()"
   ]
  }
 ],
 "metadata": {
  "kernelspec": {
   "display_name": "Python 3 (ipykernel)",
   "language": "python",
   "name": "python3"
  },
  "language_info": {
   "codemirror_mode": {
    "name": "ipython",
    "version": 3
   },
   "file_extension": ".py",
   "mimetype": "text/x-python",
   "name": "python",
   "nbconvert_exporter": "python",
   "pygments_lexer": "ipython3",
   "version": "3.12.4"
  }
 },
 "nbformat": 4,
 "nbformat_minor": 5
}
